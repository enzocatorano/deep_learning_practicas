{
  "nbformat": 4,
  "nbformat_minor": 0,
  "metadata": {
    "colab": {
      "provenance": [],
      "authorship_tag": "ABX9TyPT+v9JBF1IHzv7/e61Kwxc",
      "include_colab_link": true
    },
    "kernelspec": {
      "name": "python3",
      "display_name": "Python 3"
    },
    "language_info": {
      "name": "python"
    }
  },
  "cells": [
    {
      "cell_type": "markdown",
      "metadata": {
        "id": "view-in-github",
        "colab_type": "text"
      },
      "source": [
        "<a href=\"https://colab.research.google.com/github/enzocatorano/deep_learning_practicas/blob/master/6_GNNs.ipynb\" target=\"_parent\"><img src=\"https://colab.research.google.com/assets/colab-badge.svg\" alt=\"Open In Colab\"/></a>"
      ]
    },
    {
      "cell_type": "markdown",
      "source": [
        "# Práctica: Redes en Grafos\n",
        "\n",
        "## Clasificación de Artículos Científicos: El Dataset Cora\n",
        "\n",
        "El dataset Cora es un conjunto de datos utilizado para la clasificación de nodos en grafos. Consiste en trabajos científicos, donde cada nodo representa un artículo y los bordes representan relaciones de citación entre ellos. Cada nodo tiene características basadas en el contenido de las palabras clave del artículo, y los nodos están etiquetados según el área de investigación del artículo.\n",
        "\n",
        "El dataset Cora contiene publicaciones científicas clasificadas en **siete** clases diferentes, que representan áreas de investigación en aprendizaje automático. Estas clases son:\n",
        "\n",
        "1.  **Case\\_Based**\n",
        "2.  **Genetic\\_Algorithms**\n",
        "3.  **Neural\\_Networks**\n",
        "4.  **Probabilistic\\_Methods**\n",
        "5.  **Reinforcement\\_Learning**\n",
        "6.  **Rule\\_Learning**\n",
        "7.  **Theory**\n",
        "\n",
        "Más datos sobre el dataset en:\n",
        "\n",
        "https://arxiv.org/abs/1603.08861\n"
      ],
      "metadata": {
        "id": "kJ1J0ELDiYmx"
      }
    },
    {
      "cell_type": "markdown",
      "source": [
        "### **Es necesario instalar geometric:**"
      ],
      "metadata": {
        "id": "MTlcWmSJibpL"
      }
    },
    {
      "cell_type": "code",
      "execution_count": null,
      "metadata": {
        "colab": {
          "base_uri": "https://localhost:8080/"
        },
        "id": "ROrLAwUhhZqw",
        "outputId": "60844a3c-1dd1-4253-d2f1-2a40fe0bd3de"
      },
      "outputs": [
        {
          "output_type": "stream",
          "name": "stdout",
          "text": [
            "Looking in links: https://pytorch-geometric.com/whl/torch-2.6.0+cu124.html\n",
            "Collecting torch-scatter\n",
            "  Downloading https://data.pyg.org/whl/torch-2.6.0%2Bcu124/torch_scatter-2.1.2%2Bpt26cu124-cp311-cp311-linux_x86_64.whl (10.8 MB)\n",
            "\u001b[2K     \u001b[90m━━━━━━━━━━━━━━━━━━━━━━━━━━━━━━━━━━━━━━━━\u001b[0m \u001b[32m10.8/10.8 MB\u001b[0m \u001b[31m64.1 MB/s\u001b[0m eta \u001b[36m0:00:00\u001b[0m\n",
            "\u001b[?25hInstalling collected packages: torch-scatter\n",
            "Successfully installed torch-scatter-2.1.2+pt26cu124\n",
            "Looking in links: https://pytorch-geometric.com/whl/torch-2.6.0+cu124.html\n",
            "Collecting torch-sparse\n",
            "  Downloading https://data.pyg.org/whl/torch-2.6.0%2Bcu124/torch_sparse-0.6.18%2Bpt26cu124-cp311-cp311-linux_x86_64.whl (5.0 MB)\n",
            "\u001b[2K     \u001b[90m━━━━━━━━━━━━━━━━━━━━━━━━━━━━━━━━━━━━━━━━\u001b[0m \u001b[32m5.0/5.0 MB\u001b[0m \u001b[31m39.9 MB/s\u001b[0m eta \u001b[36m0:00:00\u001b[0m\n",
            "\u001b[?25hRequirement already satisfied: scipy in /usr/local/lib/python3.11/dist-packages (from torch-sparse) (1.15.3)\n",
            "Requirement already satisfied: numpy<2.5,>=1.23.5 in /usr/local/lib/python3.11/dist-packages (from scipy->torch-sparse) (2.0.2)\n",
            "Installing collected packages: torch-sparse\n",
            "Successfully installed torch-sparse-0.6.18+pt26cu124\n",
            "Looking in links: https://pytorch-geometric.com/whl/torch-2.6.0+cu124.html\n",
            "Collecting torch-cluster\n",
            "  Downloading https://data.pyg.org/whl/torch-2.6.0%2Bcu124/torch_cluster-1.6.3%2Bpt26cu124-cp311-cp311-linux_x86_64.whl (3.4 MB)\n",
            "\u001b[2K     \u001b[90m━━━━━━━━━━━━━━━━━━━━━━━━━━━━━━━━━━━━━━━━\u001b[0m \u001b[32m3.4/3.4 MB\u001b[0m \u001b[31m13.5 MB/s\u001b[0m eta \u001b[36m0:00:00\u001b[0m\n",
            "\u001b[?25hRequirement already satisfied: scipy in /usr/local/lib/python3.11/dist-packages (from torch-cluster) (1.15.3)\n",
            "Requirement already satisfied: numpy<2.5,>=1.23.5 in /usr/local/lib/python3.11/dist-packages (from scipy->torch-cluster) (2.0.2)\n",
            "Installing collected packages: torch-cluster\n",
            "Successfully installed torch-cluster-1.6.3+pt26cu124\n",
            "Looking in links: https://pytorch-geometric.com/whl/torch-2.6.0+cu124.html\n",
            "Collecting torch-spline-conv\n",
            "  Downloading https://data.pyg.org/whl/torch-2.6.0%2Bcu124/torch_spline_conv-1.2.2%2Bpt26cu124-cp311-cp311-linux_x86_64.whl (1.0 MB)\n",
            "\u001b[2K     \u001b[90m━━━━━━━━━━━━━━━━━━━━━━━━━━━━━━━━━━━━━━━━\u001b[0m \u001b[32m1.0/1.0 MB\u001b[0m \u001b[31m7.1 MB/s\u001b[0m eta \u001b[36m0:00:00\u001b[0m\n",
            "\u001b[?25hInstalling collected packages: torch-spline-conv\n",
            "Successfully installed torch-spline-conv-1.2.2+pt26cu124\n",
            "Collecting torch-geometric\n",
            "  Downloading torch_geometric-2.6.1-py3-none-any.whl.metadata (63 kB)\n",
            "\u001b[2K     \u001b[90m━━━━━━━━━━━━━━━━━━━━━━━━━━━━━━━━━━━━━━━━\u001b[0m \u001b[32m63.1/63.1 kB\u001b[0m \u001b[31m1.5 MB/s\u001b[0m eta \u001b[36m0:00:00\u001b[0m\n",
            "\u001b[?25hRequirement already satisfied: aiohttp in /usr/local/lib/python3.11/dist-packages (from torch-geometric) (3.11.15)\n",
            "Requirement already satisfied: fsspec in /usr/local/lib/python3.11/dist-packages (from torch-geometric) (2025.3.2)\n",
            "Requirement already satisfied: jinja2 in /usr/local/lib/python3.11/dist-packages (from torch-geometric) (3.1.6)\n",
            "Requirement already satisfied: numpy in /usr/local/lib/python3.11/dist-packages (from torch-geometric) (2.0.2)\n",
            "Requirement already satisfied: psutil>=5.8.0 in /usr/local/lib/python3.11/dist-packages (from torch-geometric) (5.9.5)\n",
            "Requirement already satisfied: pyparsing in /usr/local/lib/python3.11/dist-packages (from torch-geometric) (3.2.3)\n",
            "Requirement already satisfied: requests in /usr/local/lib/python3.11/dist-packages (from torch-geometric) (2.32.3)\n",
            "Requirement already satisfied: tqdm in /usr/local/lib/python3.11/dist-packages (from torch-geometric) (4.67.1)\n",
            "Requirement already satisfied: aiohappyeyeballs>=2.3.0 in /usr/local/lib/python3.11/dist-packages (from aiohttp->torch-geometric) (2.6.1)\n",
            "Requirement already satisfied: aiosignal>=1.1.2 in /usr/local/lib/python3.11/dist-packages (from aiohttp->torch-geometric) (1.3.2)\n",
            "Requirement already satisfied: attrs>=17.3.0 in /usr/local/lib/python3.11/dist-packages (from aiohttp->torch-geometric) (25.3.0)\n",
            "Requirement already satisfied: frozenlist>=1.1.1 in /usr/local/lib/python3.11/dist-packages (from aiohttp->torch-geometric) (1.6.0)\n",
            "Requirement already satisfied: multidict<7.0,>=4.5 in /usr/local/lib/python3.11/dist-packages (from aiohttp->torch-geometric) (6.4.4)\n",
            "Requirement already satisfied: propcache>=0.2.0 in /usr/local/lib/python3.11/dist-packages (from aiohttp->torch-geometric) (0.3.1)\n",
            "Requirement already satisfied: yarl<2.0,>=1.17.0 in /usr/local/lib/python3.11/dist-packages (from aiohttp->torch-geometric) (1.20.0)\n",
            "Requirement already satisfied: MarkupSafe>=2.0 in /usr/local/lib/python3.11/dist-packages (from jinja2->torch-geometric) (3.0.2)\n",
            "Requirement already satisfied: charset-normalizer<4,>=2 in /usr/local/lib/python3.11/dist-packages (from requests->torch-geometric) (3.4.2)\n",
            "Requirement already satisfied: idna<4,>=2.5 in /usr/local/lib/python3.11/dist-packages (from requests->torch-geometric) (3.10)\n",
            "Requirement already satisfied: urllib3<3,>=1.21.1 in /usr/local/lib/python3.11/dist-packages (from requests->torch-geometric) (2.4.0)\n",
            "Requirement already satisfied: certifi>=2017.4.17 in /usr/local/lib/python3.11/dist-packages (from requests->torch-geometric) (2025.4.26)\n",
            "Downloading torch_geometric-2.6.1-py3-none-any.whl (1.1 MB)\n",
            "\u001b[2K   \u001b[90m━━━━━━━━━━━━━━━━━━━━━━━━━━━━━━━━━━━━━━━━\u001b[0m \u001b[32m1.1/1.1 MB\u001b[0m \u001b[31m15.8 MB/s\u001b[0m eta \u001b[36m0:00:00\u001b[0m\n",
            "\u001b[?25hInstalling collected packages: torch-geometric\n",
            "Successfully installed torch-geometric-2.6.1\n"
          ]
        }
      ],
      "source": [
        "# Instalando pytoch geometric en Colab\n",
        "import torch\n",
        "\n",
        "def format_pytorch_version(version):\n",
        "  return version.split('+')[0]\n",
        "\n",
        "TORCH_version = torch.__version__\n",
        "TORCH = format_pytorch_version(TORCH_version)\n",
        "\n",
        "def format_cuda_version(version):\n",
        "  return 'cu' + version.replace('.', '')\n",
        "\n",
        "CUDA_version = torch.version.cuda\n",
        "CUDA = format_cuda_version(CUDA_version)\n",
        "\n",
        "!pip install torch-scatter     -f https://pytorch-geometric.com/whl/torch-{TORCH}+{CUDA}.html\n",
        "!pip install torch-sparse      -f https://pytorch-geometric.com/whl/torch-{TORCH}+{CUDA}.html\n",
        "!pip install torch-cluster     -f https://pytorch-geometric.com/whl/torch-{TORCH}+{CUDA}.html\n",
        "!pip install torch-spline-conv -f https://pytorch-geometric.com/whl/torch-{TORCH}+{CUDA}.html\n",
        "!pip install torch-geometric"
      ]
    },
    {
      "cell_type": "markdown",
      "source": [
        "## **Importar bibliotecas y bajar el dataset**"
      ],
      "metadata": {
        "id": "24TWRLrSimpb"
      }
    },
    {
      "cell_type": "code",
      "source": [
        "# Importamos bibliotecas\n",
        "from torch_geometric.datasets import Planetoid\n",
        "from torch_geometric.nn import GCNConv, ChebConv\n",
        "import torch.nn.functional as F"
      ],
      "metadata": {
        "id": "1xpySifyinAN"
      },
      "execution_count": null,
      "outputs": []
    },
    {
      "cell_type": "code",
      "source": [
        "# Cargamos el dataset\n",
        "dataset = Planetoid(root='tmp/Cora', name='Cora')\n",
        "\n",
        "# El dataset Cora es un solo grafo\n",
        "data = dataset[0]"
      ],
      "metadata": {
        "colab": {
          "base_uri": "https://localhost:8080/"
        },
        "id": "T48fpu_6in4n",
        "outputId": "a7a0cdba-1173-4ced-f99b-30f24ee7572b"
      },
      "execution_count": null,
      "outputs": [
        {
          "output_type": "stream",
          "name": "stderr",
          "text": [
            "Downloading https://github.com/kimiyoung/planetoid/raw/master/data/ind.cora.x\n",
            "Downloading https://github.com/kimiyoung/planetoid/raw/master/data/ind.cora.tx\n",
            "Downloading https://github.com/kimiyoung/planetoid/raw/master/data/ind.cora.allx\n",
            "Downloading https://github.com/kimiyoung/planetoid/raw/master/data/ind.cora.y\n",
            "Downloading https://github.com/kimiyoung/planetoid/raw/master/data/ind.cora.ty\n",
            "Downloading https://github.com/kimiyoung/planetoid/raw/master/data/ind.cora.ally\n",
            "Downloading https://github.com/kimiyoung/planetoid/raw/master/data/ind.cora.graph\n",
            "Downloading https://github.com/kimiyoung/planetoid/raw/master/data/ind.cora.test.index\n",
            "Processing...\n",
            "Done!\n"
          ]
        }
      ]
    },
    {
      "cell_type": "code",
      "source": [
        "# Veamos las propiedades del grafo\n",
        "print(f'Número de nodos: {data.num_nodes}')\n",
        "print(f'Número de aristas: {data.num_edges}')\n",
        "print(f'Número de características de los nodos: {dataset.num_node_features}')\n",
        "print(f'Número de clases: {dataset.num_classes}')\n",
        "print(f'¿Es dirigido?: {data.is_directed()}')\n",
        "print(f'¿Tiene auto-bucles?: {data.has_self_loops()}')\n",
        "print(f'Forma de las características de los nodos (x): {data.x.shape}')\n",
        "print(f'Forma de los índices de los bordes (edge_index): {data.edge_index.shape}')\n",
        "print(f'Forma de las etiquetas de los nodos (y): {data.y.shape}')\n",
        "print(data)"
      ],
      "metadata": {
        "colab": {
          "base_uri": "https://localhost:8080/"
        },
        "id": "cVAd-orDip5k",
        "outputId": "5be9bbc3-0dbb-4b71-8997-97b26ef05054"
      },
      "execution_count": null,
      "outputs": [
        {
          "output_type": "stream",
          "name": "stdout",
          "text": [
            "Número de nodos: 2708\n",
            "Número de aristas: 10556\n",
            "Número de características de los nodos: 1433\n",
            "Número de clases: 7\n",
            "¿Es dirigido?: False\n",
            "¿Tiene auto-bucles?: False\n",
            "Forma de las características de los nodos (x): torch.Size([2708, 1433])\n",
            "Forma de los índices de los bordes (edge_index): torch.Size([2, 10556])\n",
            "Forma de las etiquetas de los nodos (y): torch.Size([2708])\n",
            "Data(x=[2708, 1433], edge_index=[2, 10556], y=[2708], train_mask=[2708], val_mask=[2708], test_mask=[2708])\n"
          ]
        }
      ]
    },
    {
      "cell_type": "markdown",
      "source": [
        "### **Máscaras de Train, Val y Test**"
      ],
      "metadata": {
        "id": "k1HX9DSoitKs"
      }
    },
    {
      "cell_type": "code",
      "source": [
        "# Para acceder a los conjuntos de train, validation y test usamos máscaras que cubren parte del grafo\n",
        "# Veamos cuantos elementos tenemos:\n",
        "print(data.train_mask.sum().item())\n",
        "print(data.val_mask.sum().item())\n",
        "print(data.test_mask.sum().item())"
      ],
      "metadata": {
        "colab": {
          "base_uri": "https://localhost:8080/"
        },
        "id": "svCvh4KmisBu",
        "outputId": "7034fae0-4a61-459d-e07f-04ec3e4de382"
      },
      "execution_count": null,
      "outputs": [
        {
          "output_type": "stream",
          "name": "stdout",
          "text": [
            "140\n",
            "500\n",
            "1000\n"
          ]
        }
      ]
    },
    {
      "cell_type": "markdown",
      "source": [
        "¿De dónde sale ese split? Buscar en la documentación:\n",
        "\n",
        "https://pytorch-geometric.readthedocs.io/en/2.6.0/generated/torch_geometric.datasets.Planetoid.html#torch_geometric.datasets.Planetoid\n",
        "\n",
        "Es el predeterminado para la clase Planetoid. En la documentacion muestra:\n",
        "\n",
        "`class Planetoid( ... , split: str = 'public', ... )`\n",
        "* split (str, optional) –\n",
        "    ... If set to \"public\", the split will be the public fixed split from the “Revisiting Semi-Supervised Learning with Graph Embeddings” paper ..."
      ],
      "metadata": {
        "id": "COSlp_20iwIk"
      }
    },
    {
      "cell_type": "markdown",
      "source": [
        "## **Creando la red**\n",
        "\n",
        "Definir una red neuronal de dos capas convolucionales con 16 features en la capa intermedia.\n",
        "\n",
        "Probar con capas GCNConv y ChebConv (con K =3)"
      ],
      "metadata": {
        "id": "YO_qzNpZix5q"
      }
    },
    {
      "cell_type": "code",
      "source": [
        "class GCN(torch.nn.Module):\n",
        "    def __init__(self, num_node_features, num_hidden_features, num_classes):\n",
        "        super(GCN, self).__init__()\n",
        "        self.conv1 = GCNConv(num_node_features, num_hidden_features)\n",
        "        self.conv2 = GCNConv(num_hidden_features, num_classes)\n",
        "\n",
        "    def forward(self, data):\n",
        "        x, edge_index = data.x, data.edge_index\n",
        "\n",
        "        x = self.conv1(x, edge_index)\n",
        "        x = F.relu(x)\n",
        "        x = self.conv2(x, edge_index)\n",
        "\n",
        "        return F.log_softmax(x, dim=1)\n",
        "\n",
        "\n",
        "class ChebNet(torch.nn.Module):\n",
        "    def __init__(self, num_node_features, num_hidden_features, num_classes):\n",
        "        super(ChebNet, self).__init__()\n",
        "        self.conv1 = ChebConv(num_node_features, num_hidden_features, K=3)\n",
        "        self.conv2 = ChebConv(num_hidden_features, num_classes, K=3)\n",
        "\n",
        "    def forward(self, data):\n",
        "        x, edge_index = data.x, data.edge_index\n",
        "\n",
        "        x = self.conv1(x, edge_index)\n",
        "        x = F.relu(x)\n",
        "        x = self.conv2(x, edge_index)\n",
        "\n",
        "        return F.log_softmax(x, dim=1)"
      ],
      "metadata": {
        "id": "iJiQ2enZiuhW"
      },
      "execution_count": null,
      "outputs": []
    },
    {
      "cell_type": "markdown",
      "source": [
        "## Pruebo GCN"
      ],
      "metadata": {
        "id": "OW5fkdkp7aHd"
      }
    },
    {
      "cell_type": "code",
      "source": [
        "# Inicializar el modelo\n",
        "num_hidden_features = 16\n",
        "model = GCN(num_node_features=dataset.num_node_features, num_hidden_features = num_hidden_features, num_classes=dataset.num_classes)"
      ],
      "metadata": {
        "id": "JKx-2WX_izSO"
      },
      "execution_count": null,
      "outputs": []
    },
    {
      "cell_type": "code",
      "source": [
        "optimizer = torch.optim.Adam(model.parameters(), lr=0.01, weight_decay=5e-4)\n",
        "criterion = torch.nn.NLLLoss()\n",
        "\n",
        "def train():\n",
        "    model.train()\n",
        "    optimizer.zero_grad()\n",
        "    out = model(data)\n",
        "    loss = criterion(out[data.train_mask], data.y[data.train_mask])\n",
        "    loss.backward()\n",
        "    optimizer.step()\n",
        "    return loss.item()\n",
        "\n",
        "# Tenemos que restringir la evaluación a un subconjunto de los nodos (train, val, test), definidos por la máscara\n",
        "@torch.no_grad()\n",
        "def evaluate(mask):\n",
        "    model.eval()\n",
        "    out = model(data)\n",
        "    pred = out.argmax(dim=1)\n",
        "    correct = (pred[mask] == data.y[mask]).sum()\n",
        "    acc = int(correct) / int(mask.sum())\n",
        "    return acc, pred\n",
        "\n",
        "\n",
        "# Entrenamiento\n",
        "best_val_acc = 0\n",
        "best_epoch = 0\n",
        "best_model_sd = model.state_dict()\n",
        "\n",
        "for epoch in range(200):\n",
        "    loss = train()\n",
        "    val_acc, _ = evaluate(data.val_mask)\n",
        "    if val_acc > best_val_acc:\n",
        "        best_val_acc = val_acc\n",
        "        best_epoch = epoch\n",
        "        best_model_sd = model.state_dict()\n",
        "    if epoch % 10 == 0:\n",
        "        print(f'Epoch: {epoch+1:03d}, Loss: {loss:.4f}, Val Acc: {val_acc:.4f}')\n",
        "\n",
        "# Nos quedamos con el mejor modelo\n",
        "model.load_state_dict(best_model_sd)\n",
        "test_acc, _ = evaluate(data.test_mask)\n",
        "print(f'Best Epoch: {best_epoch}')\n",
        "print(f'Test Accuracy: {test_acc:.4f}')"
      ],
      "metadata": {
        "colab": {
          "base_uri": "https://localhost:8080/"
        },
        "id": "jhoINf292zbq",
        "outputId": "d34a3b73-8bad-443b-b127-5ef454229f01"
      },
      "execution_count": null,
      "outputs": [
        {
          "output_type": "stream",
          "name": "stdout",
          "text": [
            "Epoch: 001, Loss: 0.0066, Val Acc: 0.7780\n",
            "Epoch: 011, Loss: 0.0063, Val Acc: 0.7760\n",
            "Epoch: 021, Loss: 0.0066, Val Acc: 0.7780\n",
            "Epoch: 031, Loss: 0.0066, Val Acc: 0.7780\n",
            "Epoch: 041, Loss: 0.0067, Val Acc: 0.7800\n",
            "Epoch: 051, Loss: 0.0066, Val Acc: 0.7780\n",
            "Epoch: 061, Loss: 0.0066, Val Acc: 0.7800\n",
            "Epoch: 071, Loss: 0.0066, Val Acc: 0.7780\n",
            "Epoch: 081, Loss: 0.0066, Val Acc: 0.7800\n",
            "Epoch: 091, Loss: 0.0066, Val Acc: 0.7780\n",
            "Epoch: 101, Loss: 0.0066, Val Acc: 0.7780\n",
            "Epoch: 111, Loss: 0.0066, Val Acc: 0.7800\n",
            "Epoch: 121, Loss: 0.0066, Val Acc: 0.7780\n",
            "Epoch: 131, Loss: 0.0066, Val Acc: 0.7780\n",
            "Epoch: 141, Loss: 0.0066, Val Acc: 0.7780\n",
            "Epoch: 151, Loss: 0.0066, Val Acc: 0.7780\n",
            "Epoch: 161, Loss: 0.0066, Val Acc: 0.7780\n",
            "Epoch: 171, Loss: 0.0066, Val Acc: 0.7780\n",
            "Epoch: 181, Loss: 0.0066, Val Acc: 0.7780\n",
            "Epoch: 191, Loss: 0.0066, Val Acc: 0.7780\n",
            "Best Epoch: 6\n",
            "Test Accuracy: 0.8080\n"
          ]
        }
      ]
    },
    {
      "cell_type": "markdown",
      "source": [
        "### Calcular la matriz de confusión sobre los datos de test"
      ],
      "metadata": {
        "id": "HqNsXyYK4wT8"
      }
    },
    {
      "cell_type": "code",
      "source": [
        "from sklearn.metrics import confusion_matrix\n",
        "import seaborn as sns\n",
        "import matplotlib.pyplot as plt\n",
        "\n",
        "# Predecimos\n",
        "model.eval()\n",
        "with torch.no_grad():\n",
        "    _ , pred = evaluate(data.test_mask)\n",
        "\n",
        "# Nos quedamos con valores verdaderos y predicciones solo para el conjunto de test\n",
        "true_labels = data.y[data.test_mask].cpu().numpy()\n",
        "predicted_labels = pred[data.test_mask].cpu().numpy()\n",
        "\n",
        "# Calculamos la matriz de confusion\n",
        "cm = confusion_matrix(true_labels, predicted_labels)\n",
        "\n",
        "sns.heatmap(cm, annot=True, fmt='d')"
      ],
      "metadata": {
        "colab": {
          "base_uri": "https://localhost:8080/",
          "height": 447
        },
        "id": "7cas-rNw4QbO",
        "outputId": "86833cc6-e423-4890-843b-f898b46c6f21"
      },
      "execution_count": null,
      "outputs": [
        {
          "output_type": "execute_result",
          "data": {
            "text/plain": [
              "<Axes: >"
            ]
          },
          "metadata": {},
          "execution_count": 28
        },
        {
          "output_type": "display_data",
          "data": {
            "text/plain": [
              "<Figure size 640x480 with 2 Axes>"
            ],
            "image/png": "[encoded data removed]"
          },
          "metadata": {}
        }
      ]
    },
    {
      "cell_type": "markdown",
      "source": [
        "## Pruebo ChebNet"
      ],
      "metadata": {
        "id": "wMaX6sHb7fjl"
      }
    },
    {
      "cell_type": "code",
      "source": [
        "# Inicializar el modelo\n",
        "num_hidden_features = 16\n",
        "model = ChebNet(num_node_features=dataset.num_node_features, num_hidden_features = num_hidden_features, num_classes=dataset.num_classes)"
      ],
      "metadata": {
        "id": "lT3EMP-O7hMy"
      },
      "execution_count": null,
      "outputs": []
    },
    {
      "cell_type": "code",
      "source": [
        "optimizer = torch.optim.Adam(model.parameters(), lr=0.01, weight_decay=5e-4)\n",
        "criterion = torch.nn.NLLLoss()\n",
        "\n",
        "def train():\n",
        "    model.train()\n",
        "    optimizer.zero_grad()\n",
        "    out = model(data)\n",
        "    loss = criterion(out[data.train_mask], data.y[data.train_mask])\n",
        "    loss.backward()\n",
        "    optimizer.step()\n",
        "    return loss.item()\n",
        "\n",
        "# Tenemos que restringir la evaluación a un subconjunto de los nodos (train, val, test), definidos por la máscara\n",
        "@torch.no_grad()\n",
        "def evaluate(mask):\n",
        "    model.eval()\n",
        "    out = model(data)\n",
        "    pred = out.argmax(dim=1)\n",
        "    correct = (pred[mask] == data.y[mask]).sum()\n",
        "    acc = int(correct) / int(mask.sum())\n",
        "    return acc, pred\n",
        "\n",
        "\n",
        "# Entrenamiento\n",
        "best_val_acc = 0\n",
        "best_epoch = 0\n",
        "best_model_sd = model.state_dict()\n",
        "\n",
        "for epoch in range(200):\n",
        "    loss = train()\n",
        "    val_acc, _ = evaluate(data.val_mask)\n",
        "    if val_acc > best_val_acc:\n",
        "        best_val_acc = val_acc\n",
        "        best_epoch = epoch\n",
        "        best_model_sd = model.state_dict()\n",
        "    if epoch % 10 == 0:\n",
        "        print(f'Epoch: {epoch+1:03d}, Loss: {loss:.4f}, Val Acc: {val_acc:.4f}')\n",
        "\n",
        "# Nos quedamos con el mejor modelo\n",
        "model.load_state_dict(best_model_sd)\n",
        "test_acc, _ = evaluate(data.test_mask)\n",
        "print(f'Best Epoch: {best_epoch}')\n",
        "print(f'Test Accuracy: {test_acc:.4f}')"
      ],
      "metadata": {
        "colab": {
          "base_uri": "https://localhost:8080/"
        },
        "id": "s80aPp1x7mGj",
        "outputId": "a9c49b4e-de5a-46c7-ae03-21bf8a4eb0b8"
      },
      "execution_count": null,
      "outputs": [
        {
          "output_type": "stream",
          "name": "stdout",
          "text": [
            "Epoch: 001, Loss: 1.9771, Val Acc: 0.3200\n",
            "Epoch: 011, Loss: 0.0046, Val Acc: 0.6300\n",
            "Epoch: 021, Loss: 0.0002, Val Acc: 0.5940\n",
            "Epoch: 031, Loss: 0.0001, Val Acc: 0.5900\n",
            "Epoch: 041, Loss: 0.0001, Val Acc: 0.5960\n",
            "Epoch: 051, Loss: 0.0003, Val Acc: 0.6180\n",
            "Epoch: 061, Loss: 0.0006, Val Acc: 0.6500\n",
            "Epoch: 071, Loss: 0.0011, Val Acc: 0.6700\n",
            "Epoch: 081, Loss: 0.0019, Val Acc: 0.6780\n",
            "Epoch: 091, Loss: 0.0025, Val Acc: 0.6780\n",
            "Epoch: 101, Loss: 0.0028, Val Acc: 0.6820\n",
            "Epoch: 111, Loss: 0.0028, Val Acc: 0.6860\n",
            "Epoch: 121, Loss: 0.0028, Val Acc: 0.6900\n",
            "Epoch: 131, Loss: 0.0028, Val Acc: 0.6980\n",
            "Epoch: 141, Loss: 0.0027, Val Acc: 0.7000\n",
            "Epoch: 151, Loss: 0.0027, Val Acc: 0.7020\n",
            "Epoch: 161, Loss: 0.0027, Val Acc: 0.7080\n",
            "Epoch: 171, Loss: 0.0026, Val Acc: 0.7120\n",
            "Epoch: 181, Loss: 0.0026, Val Acc: 0.7180\n",
            "Epoch: 191, Loss: 0.0026, Val Acc: 0.7140\n",
            "Best Epoch: 178\n",
            "Test Accuracy: 0.7560\n"
          ]
        }
      ]
    },
    {
      "cell_type": "markdown",
      "source": [
        "### Calcular la matriz de confusión sobre los datos de test"
      ],
      "metadata": {
        "id": "UdCFViwi7wWZ"
      }
    },
    {
      "cell_type": "code",
      "source": [
        "from sklearn.metrics import confusion_matrix\n",
        "import seaborn as sns\n",
        "import matplotlib.pyplot as plt\n",
        "\n",
        "# Predecimos\n",
        "model.eval()\n",
        "with torch.no_grad():\n",
        "    _ , pred = evaluate(data.test_mask)\n",
        "\n",
        "# Nos quedamos con valores verdaderos y predicciones solo para el conjunto de test\n",
        "true_labels = data.y[data.test_mask].cpu().numpy()\n",
        "predicted_labels = pred[data.test_mask].cpu().numpy()\n",
        "\n",
        "# Calculamos la matriz de confusion\n",
        "cm = confusion_matrix(true_labels, predicted_labels)\n",
        "\n",
        "sns.heatmap(cm, annot=True, fmt='d')"
      ],
      "metadata": {
        "colab": {
          "base_uri": "https://localhost:8080/",
          "height": 447
        },
        "id": "gtRHMh_A7pCr",
        "outputId": "adb869dd-6594-4137-d8a0-7a730f9e0cd7"
      },
      "execution_count": null,
      "outputs": [
        {
          "output_type": "execute_result",
          "data": {
            "text/plain": [
              "<Axes: >"
            ]
          },
          "metadata": {},
          "execution_count": 31
        },
        {
          "output_type": "display_data",
          "data": {
            "text/plain": [
              "<Figure size 640x480 with 2 Axes>"
            ],
            "image/png": "[encoded data removed]"
          },
          "metadata": {}
        }
      ]
    }
  ]
}