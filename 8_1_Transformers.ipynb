{
  "nbformat": 4,
  "nbformat_minor": 0,
  "metadata": {
    "colab": {
      "provenance": [],
      "gpuType": "T4",
      "include_colab_link": true
    },
    "kernelspec": {
      "name": "python3",
      "display_name": "Python 3"
    },
    "accelerator": "GPU",
    "widgets": {
      "application/vnd.jupyter.widget-state+json": {
        "d8f388785d154df7ad71dec271d719f4": {
          "model_module": "@jupyter-widgets/controls",
          "model_name": "HBoxModel",
          "model_module_version": "1.5.0",
          "state": {
            "_dom_classes": [],
            "_model_module": "@jupyter-widgets/controls",
            "_model_module_version": "1.5.0",
            "_model_name": "HBoxModel",
            "_view_count": null,
            "_view_module": "@jupyter-widgets/controls",
            "_view_module_version": "1.5.0",
            "_view_name": "HBoxView",
            "box_style": "",
            "children": [
              "IPY_MODEL_83aebf9066ae4c55948205fa5a573a1d",
              "IPY_MODEL_8a886dfa79ed4d889eb5625f1473578f",
              "IPY_MODEL_b12f8becaef548f18ecea7af5eb45d82"
            ],
            "layout": "IPY_MODEL_c2df7fdbc000456dac98970ce34c4102"
          }
        },
        "83aebf9066ae4c55948205fa5a573a1d": {
          "model_module": "@jupyter-widgets/controls",
          "model_name": "HTMLModel",
          "model_module_version": "1.5.0",
          "state": {
            "_dom_classes": [],
            "_model_module": "@jupyter-widgets/controls",
            "_model_module_version": "1.5.0",
            "_model_name": "HTMLModel",
            "_view_count": null,
            "_view_module": "@jupyter-widgets/controls",
            "_view_module_version": "1.5.0",
            "_view_name": "HTMLView",
            "description": "",
            "description_tooltip": null,
            "layout": "IPY_MODEL_fe873e57ce7d441b8f11447643077117",
            "placeholder": "​",
            "style": "IPY_MODEL_8d703af9dde943b49e0bb75c023422d7",
            "value": "tokenizer_config.json: 100%"
          }
        },
        "8a886dfa79ed4d889eb5625f1473578f": {
          "model_module": "@jupyter-widgets/controls",
          "model_name": "FloatProgressModel",
          "model_module_version": "1.5.0",
          "state": {
            "_dom_classes": [],
            "_model_module": "@jupyter-widgets/controls",
            "_model_module_version": "1.5.0",
            "_model_name": "FloatProgressModel",
            "_view_count": null,
            "_view_module": "@jupyter-widgets/controls",
            "_view_module_version": "1.5.0",
            "_view_name": "ProgressView",
            "bar_style": "success",
            "description": "",
            "description_tooltip": null,
            "layout": "IPY_MODEL_07e6e53515c940d2a39c2cbe46c0f9fa",
            "max": 48,
            "min": 0,
            "orientation": "horizontal",
            "style": "IPY_MODEL_268dc95aa49846fcb646a47cc2abf1e3",
            "value": 48
          }
        },
        "b12f8becaef548f18ecea7af5eb45d82": {
          "model_module": "@jupyter-widgets/controls",
          "model_name": "HTMLModel",
          "model_module_version": "1.5.0",
          "state": {
            "_dom_classes": [],
            "_model_module": "@jupyter-widgets/controls",
            "_model_module_version": "1.5.0",
            "_model_name": "HTMLModel",
            "_view_count": null,
            "_view_module": "@jupyter-widgets/controls",
            "_view_module_version": "1.5.0",
            "_view_name": "HTMLView",
            "description": "",
            "description_tooltip": null,
            "layout": "IPY_MODEL_fea93641e7fd4e988241b907f8364710",
            "placeholder": "​",
            "style": "IPY_MODEL_bbbf3f42bc104632a66844bd7b4b5acb",
            "value": " 48.0/48.0 [00:00&lt;00:00, 1.44kB/s]"
          }
        },
        "c2df7fdbc000456dac98970ce34c4102": {
          "model_module": "@jupyter-widgets/base",
          "model_name": "LayoutModel",
          "model_module_version": "1.2.0",
          "state": {
            "_model_module": "@jupyter-widgets/base",
            "_model_module_version": "1.2.0",
            "_model_name": "LayoutModel",
            "_view_count": null,
            "_view_module": "@jupyter-widgets/base",
            "_view_module_version": "1.2.0",
            "_view_name": "LayoutView",
            "align_content": null,
            "align_items": null,
            "align_self": null,
            "border": null,
            "bottom": null,
            "display": null,
            "flex": null,
            "flex_flow": null,
            "grid_area": null,
            "grid_auto_columns": null,
            "grid_auto_flow": null,
            "grid_auto_rows": null,
            "grid_column": null,
            "grid_gap": null,
            "grid_row": null,
            "grid_template_areas": null,
            "grid_template_columns": null,
            "grid_template_rows": null,
            "height": null,
            "justify_content": null,
            "justify_items": null,
            "left": null,
            "margin": null,
            "max_height": null,
            "max_width": null,
            "min_height": null,
            "min_width": null,
            "object_fit": null,
            "object_position": null,
            "order": null,
            "overflow": null,
            "overflow_x": null,
            "overflow_y": null,
            "padding": null,
            "right": null,
            "top": null,
            "visibility": null,
            "width": null
          }
        },
        "fe873e57ce7d441b8f11447643077117": {
          "model_module": "@jupyter-widgets/base",
          "model_name": "LayoutModel",
          "model_module_version": "1.2.0",
          "state": {
            "_model_module": "@jupyter-widgets/base",
            "_model_module_version": "1.2.0",
            "_model_name": "LayoutModel",
            "_view_count": null,
            "_view_module": "@jupyter-widgets/base",
            "_view_module_version": "1.2.0",
            "_view_name": "LayoutView",
            "align_content": null,
            "align_items": null,
            "align_self": null,
            "border": null,
            "bottom": null,
            "display": null,
            "flex": null,
            "flex_flow": null,
            "grid_area": null,
            "grid_auto_columns": null,
            "grid_auto_flow": null,
            "grid_auto_rows": null,
            "grid_column": null,
            "grid_gap": null,
            "grid_row": null,
            "grid_template_areas": null,
            "grid_template_columns": null,
            "grid_template_rows": null,
            "height": null,
            "justify_content": null,
            "justify_items": null,
            "left": null,
            "margin": null,
            "max_height": null,
            "max_width": null,
            "min_height": null,
            "min_width": null,
            "object_fit": null,
            "object_position": null,
            "order": null,
            "overflow": null,
            "overflow_x": null,
            "overflow_y": null,
            "padding": null,
            "right": null,
            "top": null,
            "visibility": null,
            "width": null
          }
        },
        "8d703af9dde943b49e0bb75c023422d7": {
          "model_module": "@jupyter-widgets/controls",
          "model_name": "DescriptionStyleModel",
          "model_module_version": "1.5.0",
          "state": {
            "_model_module": "@jupyter-widgets/controls",
            "_model_module_version": "1.5.0",
            "_model_name": "DescriptionStyleModel",
            "_view_count": null,
            "_view_module": "@jupyter-widgets/base",
            "_view_module_version": "1.2.0",
            "_view_name": "StyleView",
            "description_width": ""
          }
        },
        "07e6e53515c940d2a39c2cbe46c0f9fa": {
          "model_module": "@jupyter-widgets/base",
          "model_name": "LayoutModel",
          "model_module_version": "1.2.0",
          "state": {
            "_model_module": "@jupyter-widgets/base",
            "_model_module_version": "1.2.0",
            "_model_name": "LayoutModel",
            "_view_count": null,
            "_view_module": "@jupyter-widgets/base",
            "_view_module_version": "1.2.0",
            "_view_name": "LayoutView",
            "align_content": null,
            "align_items": null,
            "align_self": null,
            "border": null,
            "bottom": null,
            "display": null,
            "flex": null,
            "flex_flow": null,
            "grid_area": null,
            "grid_auto_columns": null,
            "grid_auto_flow": null,
            "grid_auto_rows": null,
            "grid_column": null,
            "grid_gap": null,
            "grid_row": null,
            "grid_template_areas": null,
            "grid_template_columns": null,
            "grid_template_rows": null,
            "height": null,
            "justify_content": null,
            "justify_items": null,
            "left": null,
            "margin": null,
            "max_height": null,
            "max_width": null,
            "min_height": null,
            "min_width": null,
            "object_fit": null,
            "object_position": null,
            "order": null,
            "overflow": null,
            "overflow_x": null,
            "overflow_y": null,
            "padding": null,
            "right": null,
            "top": null,
            "visibility": null,
            "width": null
          }
        },
        "268dc95aa49846fcb646a47cc2abf1e3": {
          "model_module": "@jupyter-widgets/controls",
          "model_name": "ProgressStyleModel",
          "model_module_version": "1.5.0",
          "state": {
            "_model_module": "@jupyter-widgets/controls",
            "_model_module_version": "1.5.0",
            "_model_name": "ProgressStyleModel",
            "_view_count": null,
            "_view_module": "@jupyter-widgets/base",
            "_view_module_version": "1.2.0",
            "_view_name": "StyleView",
            "bar_color": null,
            "description_width": ""
          }
        },
        "fea93641e7fd4e988241b907f8364710": {
          "model_module": "@jupyter-widgets/base",
          "model_name": "LayoutModel",
          "model_module_version": "1.2.0",
          "state": {
            "_model_module": "@jupyter-widgets/base",
            "_model_module_version": "1.2.0",
            "_model_name": "LayoutModel",
            "_view_count": null,
            "_view_module": "@jupyter-widgets/base",
            "_view_module_version": "1.2.0",
            "_view_name": "LayoutView",
            "align_content": null,
            "align_items": null,
            "align_self": null,
            "border": null,
            "bottom": null,
            "display": null,
            "flex": null,
            "flex_flow": null,
            "grid_area": null,
            "grid_auto_columns": null,
            "grid_auto_flow": null,
            "grid_auto_rows": null,
            "grid_column": null,
            "grid_gap": null,
            "grid_row": null,
            "grid_template_areas": null,
            "grid_template_columns": null,
            "grid_template_rows": null,
            "height": null,
            "justify_content": null,
            "justify_items": null,
            "left": null,
            "margin": null,
            "max_height": null,
            "max_width": null,
            "min_height": null,
            "min_width": null,
            "object_fit": null,
            "object_position": null,
            "order": null,
            "overflow": null,
            "overflow_x": null,
            "overflow_y": null,
            "padding": null,
            "right": null,
            "top": null,
            "visibility": null,
            "width": null
          }
        },
        "bbbf3f42bc104632a66844bd7b4b5acb": {
          "model_module": "@jupyter-widgets/controls",
          "model_name": "DescriptionStyleModel",
          "model_module_version": "1.5.0",
          "state": {
            "_model_module": "@jupyter-widgets/controls",
            "_model_module_version": "1.5.0",
            "_model_name": "DescriptionStyleModel",
            "_view_count": null,
            "_view_module": "@jupyter-widgets/base",
            "_view_module_version": "1.2.0",
            "_view_name": "StyleView",
            "description_width": ""
          }
        },
        "981f4ff92ec9438faa1b940eade63866": {
          "model_module": "@jupyter-widgets/controls",
          "model_name": "HBoxModel",
          "model_module_version": "1.5.0",
          "state": {
            "_dom_classes": [],
            "_model_module": "@jupyter-widgets/controls",
            "_model_module_version": "1.5.0",
            "_model_name": "HBoxModel",
            "_view_count": null,
            "_view_module": "@jupyter-widgets/controls",
            "_view_module_version": "1.5.0",
            "_view_name": "HBoxView",
            "box_style": "",
            "children": [
              "IPY_MODEL_658f9960bcdc4200a3c7dd173cf04d94",
              "IPY_MODEL_bc76fba00a7a41f39c2b82b034c532f9",
              "IPY_MODEL_f09ea4b807d34776ae53be46e199d748"
            ],
            "layout": "IPY_MODEL_809bfda4b3f74c879de1675f7500663b"
          }
        },
        "658f9960bcdc4200a3c7dd173cf04d94": {
          "model_module": "@jupyter-widgets/controls",
          "model_name": "HTMLModel",
          "model_module_version": "1.5.0",
          "state": {
            "_dom_classes": [],
            "_model_module": "@jupyter-widgets/controls",
            "_model_module_version": "1.5.0",
            "_model_name": "HTMLModel",
            "_view_count": null,
            "_view_module": "@jupyter-widgets/controls",
            "_view_module_version": "1.5.0",
            "_view_name": "HTMLView",
            "description": "",
            "description_tooltip": null,
            "layout": "IPY_MODEL_9009cfd6141547728b4f4030f0dd0db0",
            "placeholder": "​",
            "style": "IPY_MODEL_75c3177054c94368b8249ce68ce38839",
            "value": "vocab.txt: 100%"
          }
        },
        "bc76fba00a7a41f39c2b82b034c532f9": {
          "model_module": "@jupyter-widgets/controls",
          "model_name": "FloatProgressModel",
          "model_module_version": "1.5.0",
          "state": {
            "_dom_classes": [],
            "_model_module": "@jupyter-widgets/controls",
            "_model_module_version": "1.5.0",
            "_model_name": "FloatProgressModel",
            "_view_count": null,
            "_view_module": "@jupyter-widgets/controls",
            "_view_module_version": "1.5.0",
            "_view_name": "ProgressView",
            "bar_style": "success",
            "description": "",
            "description_tooltip": null,
            "layout": "IPY_MODEL_87194f5e5e6a434ab42b7cd865f21bb1",
            "max": 231508,
            "min": 0,
            "orientation": "horizontal",
            "style": "IPY_MODEL_af65c0f530674f7eba22c4a6f4a934e6",
            "value": 231508
          }
        },
        "f09ea4b807d34776ae53be46e199d748": {
          "model_module": "@jupyter-widgets/controls",
          "model_name": "HTMLModel",
          "model_module_version": "1.5.0",
          "state": {
            "_dom_classes": [],
            "_model_module": "@jupyter-widgets/controls",
            "_model_module_version": "1.5.0",
            "_model_name": "HTMLModel",
            "_view_count": null,
            "_view_module": "@jupyter-widgets/controls",
            "_view_module_version": "1.5.0",
            "_view_name": "HTMLView",
            "description": "",
            "description_tooltip": null,
            "layout": "IPY_MODEL_74cf0d86dd3242008cc4c80b83cb0386",
            "placeholder": "​",
            "style": "IPY_MODEL_61590b57fabe4bfcb459ad1d09bacf90",
            "value": " 232k/232k [00:00&lt;00:00, 4.51MB/s]"
          }
        },
        "809bfda4b3f74c879de1675f7500663b": {
          "model_module": "@jupyter-widgets/base",
          "model_name": "LayoutModel",
          "model_module_version": "1.2.0",
          "state": {
            "_model_module": "@jupyter-widgets/base",
            "_model_module_version": "1.2.0",
            "_model_name": "LayoutModel",
            "_view_count": null,
            "_view_module": "@jupyter-widgets/base",
            "_view_module_version": "1.2.0",
            "_view_name": "LayoutView",
            "align_content": null,
            "align_items": null,
            "align_self": null,
            "border": null,
            "bottom": null,
            "display": null,
            "flex": null,
            "flex_flow": null,
            "grid_area": null,
            "grid_auto_columns": null,
            "grid_auto_flow": null,
            "grid_auto_rows": null,
            "grid_column": null,
            "grid_gap": null,
            "grid_row": null,
            "grid_template_areas": null,
            "grid_template_columns": null,
            "grid_template_rows": null,
            "height": null,
            "justify_content": null,
            "justify_items": null,
            "left": null,
            "margin": null,
            "max_height": null,
            "max_width": null,
            "min_height": null,
            "min_width": null,
            "object_fit": null,
            "object_position": null,
            "order": null,
            "overflow": null,
            "overflow_x": null,
            "overflow_y": null,
            "padding": null,
            "right": null,
            "top": null,
            "visibility": null,
            "width": null
          }
        },
        "9009cfd6141547728b4f4030f0dd0db0": {
          "model_module": "@jupyter-widgets/base",
          "model_name": "LayoutModel",
          "model_module_version": "1.2.0",
          "state": {
            "_model_module": "@jupyter-widgets/base",
            "_model_module_version": "1.2.0",
            "_model_name": "LayoutModel",
            "_view_count": null,
            "_view_module": "@jupyter-widgets/base",
            "_view_module_version": "1.2.0",
            "_view_name": "LayoutView",
            "align_content": null,
            "align_items": null,
            "align_self": null,
            "border": null,
            "bottom": null,
            "display": null,
            "flex": null,
            "flex_flow": null,
            "grid_area": null,
            "grid_auto_columns": null,
            "grid_auto_flow": null,
            "grid_auto_rows": null,
            "grid_column": null,
            "grid_gap": null,
            "grid_row": null,
            "grid_template_areas": null,
            "grid_template_columns": null,
            "grid_template_rows": null,
            "height": null,
            "justify_content": null,
            "justify_items": null,
            "left": null,
            "margin": null,
            "max_height": null,
            "max_width": null,
            "min_height": null,
            "min_width": null,
            "object_fit": null,
            "object_position": null,
            "order": null,
            "overflow": null,
            "overflow_x": null,
            "overflow_y": null,
            "padding": null,
            "right": null,
            "top": null,
            "visibility": null,
            "width": null
          }
        },
        "75c3177054c94368b8249ce68ce38839": {
          "model_module": "@jupyter-widgets/controls",
          "model_name": "DescriptionStyleModel",
          "model_module_version": "1.5.0",
          "state": {
            "_model_module": "@jupyter-widgets/controls",
            "_model_module_version": "1.5.0",
            "_model_name": "DescriptionStyleModel",
            "_view_count": null,
            "_view_module": "@jupyter-widgets/base",
            "_view_module_version": "1.2.0",
            "_view_name": "StyleView",
            "description_width": ""
          }
        },
        "87194f5e5e6a434ab42b7cd865f21bb1": {
          "model_module": "@jupyter-widgets/base",
          "model_name": "LayoutModel",
          "model_module_version": "1.2.0",
          "state": {
            "_model_module": "@jupyter-widgets/base",
            "_model_module_version": "1.2.0",
            "_model_name": "LayoutModel",
            "_view_count": null,
            "_view_module": "@jupyter-widgets/base",
            "_view_module_version": "1.2.0",
            "_view_name": "LayoutView",
            "align_content": null,
            "align_items": null,
            "align_self": null,
            "border": null,
            "bottom": null,
            "display": null,
            "flex": null,
            "flex_flow": null,
            "grid_area": null,
            "grid_auto_columns": null,
            "grid_auto_flow": null,
            "grid_auto_rows": null,
            "grid_column": null,
            "grid_gap": null,
            "grid_row": null,
            "grid_template_areas": null,
            "grid_template_columns": null,
            "grid_template_rows": null,
            "height": null,
            "justify_content": null,
            "justify_items": null,
            "left": null,
            "margin": null,
            "max_height": null,
            "max_width": null,
            "min_height": null,
            "min_width": null,
            "object_fit": null,
            "object_position": null,
            "order": null,
            "overflow": null,
            "overflow_x": null,
            "overflow_y": null,
            "padding": null,
            "right": null,
            "top": null,
            "visibility": null,
            "width": null
          }
        },
        "af65c0f530674f7eba22c4a6f4a934e6": {
          "model_module": "@jupyter-widgets/controls",
          "model_name": "ProgressStyleModel",
          "model_module_version": "1.5.0",
          "state": {
            "_model_module": "@jupyter-widgets/controls",
            "_model_module_version": "1.5.0",
            "_model_name": "ProgressStyleModel",
            "_view_count": null,
            "_view_module": "@jupyter-widgets/base",
            "_view_module_version": "1.2.0",
            "_view_name": "StyleView",
            "bar_color": null,
            "description_width": ""
          }
        },
        "74cf0d86dd3242008cc4c80b83cb0386": {
          "model_module": "@jupyter-widgets/base",
          "model_name": "LayoutModel",
          "model_module_version": "1.2.0",
          "state": {
            "_model_module": "@jupyter-widgets/base",
            "_model_module_version": "1.2.0",
            "_model_name": "LayoutModel",
            "_view_count": null,
            "_view_module": "@jupyter-widgets/base",
            "_view_module_version": "1.2.0",
            "_view_name": "LayoutView",
            "align_content": null,
            "align_items": null,
            "align_self": null,
            "border": null,
            "bottom": null,
            "display": null,
            "flex": null,
            "flex_flow": null,
            "grid_area": null,
            "grid_auto_columns": null,
            "grid_auto_flow": null,
            "grid_auto_rows": null,
            "grid_column": null,
            "grid_gap": null,
            "grid_row": null,
            "grid_template_areas": null,
            "grid_template_columns": null,
            "grid_template_rows": null,
            "height": null,
            "justify_content": null,
            "justify_items": null,
            "left": null,
            "margin": null,
            "max_height": null,
            "max_width": null,
            "min_height": null,
            "min_width": null,
            "object_fit": null,
            "object_position": null,
            "order": null,
            "overflow": null,
            "overflow_x": null,
            "overflow_y": null,
            "padding": null,
            "right": null,
            "top": null,
            "visibility": null,
            "width": null
          }
        },
        "61590b57fabe4bfcb459ad1d09bacf90": {
          "model_module": "@jupyter-widgets/controls",
          "model_name": "DescriptionStyleModel",
          "model_module_version": "1.5.0",
          "state": {
            "_model_module": "@jupyter-widgets/controls",
            "_model_module_version": "1.5.0",
            "_model_name": "DescriptionStyleModel",
            "_view_count": null,
            "_view_module": "@jupyter-widgets/base",
            "_view_module_version": "1.2.0",
            "_view_name": "StyleView",
            "description_width": ""
          }
        },
        "19b2d33af49f42979ebd5de0cf10826d": {
          "model_module": "@jupyter-widgets/controls",
          "model_name": "HBoxModel",
          "model_module_version": "1.5.0",
          "state": {
            "_dom_classes": [],
            "_model_module": "@jupyter-widgets/controls",
            "_model_module_version": "1.5.0",
            "_model_name": "HBoxModel",
            "_view_count": null,
            "_view_module": "@jupyter-widgets/controls",
            "_view_module_version": "1.5.0",
            "_view_name": "HBoxView",
            "box_style": "",
            "children": [
              "IPY_MODEL_a352ca01b06f4b41a42abc10a3989b71",
              "IPY_MODEL_0bb0141109e6422c980152a478e03741",
              "IPY_MODEL_453622ef275c44488b75e2359624a455"
            ],
            "layout": "IPY_MODEL_fc4092295782484ea287bd0a204750c8"
          }
        },
        "a352ca01b06f4b41a42abc10a3989b71": {
          "model_module": "@jupyter-widgets/controls",
          "model_name": "HTMLModel",
          "model_module_version": "1.5.0",
          "state": {
            "_dom_classes": [],
            "_model_module": "@jupyter-widgets/controls",
            "_model_module_version": "1.5.0",
            "_model_name": "HTMLModel",
            "_view_count": null,
            "_view_module": "@jupyter-widgets/controls",
            "_view_module_version": "1.5.0",
            "_view_name": "HTMLView",
            "description": "",
            "description_tooltip": null,
            "layout": "IPY_MODEL_ae37d2777e8d40c8bca8fe257dad0b65",
            "placeholder": "​",
            "style": "IPY_MODEL_506c2bba085f4c529a7937ebd90f1f7b",
            "value": "tokenizer.json: 100%"
          }
        },
        "0bb0141109e6422c980152a478e03741": {
          "model_module": "@jupyter-widgets/controls",
          "model_name": "FloatProgressModel",
          "model_module_version": "1.5.0",
          "state": {
            "_dom_classes": [],
            "_model_module": "@jupyter-widgets/controls",
            "_model_module_version": "1.5.0",
            "_model_name": "FloatProgressModel",
            "_view_count": null,
            "_view_module": "@jupyter-widgets/controls",
            "_view_module_version": "1.5.0",
            "_view_name": "ProgressView",
            "bar_style": "success",
            "description": "",
            "description_tooltip": null,
            "layout": "IPY_MODEL_9031b4ae68404efa93688b7e171df846",
            "max": 466062,
            "min": 0,
            "orientation": "horizontal",
            "style": "IPY_MODEL_47b1b4cc2ddc4e3ab62d41d4a75c842a",
            "value": 466062
          }
        },
        "453622ef275c44488b75e2359624a455": {
          "model_module": "@jupyter-widgets/controls",
          "model_name": "HTMLModel",
          "model_module_version": "1.5.0",
          "state": {
            "_dom_classes": [],
            "_model_module": "@jupyter-widgets/controls",
            "_model_module_version": "1.5.0",
            "_model_name": "HTMLModel",
            "_view_count": null,
            "_view_module": "@jupyter-widgets/controls",
            "_view_module_version": "1.5.0",
            "_view_name": "HTMLView",
            "description": "",
            "description_tooltip": null,
            "layout": "IPY_MODEL_46fabd1458684cbba2e77ce84603630d",
            "placeholder": "​",
            "style": "IPY_MODEL_3cde149dd2d142639d77163e8989d87a",
            "value": " 466k/466k [00:00&lt;00:00, 2.01MB/s]"
          }
        },
        "fc4092295782484ea287bd0a204750c8": {
          "model_module": "@jupyter-widgets/base",
          "model_name": "LayoutModel",
          "model_module_version": "1.2.0",
          "state": {
            "_model_module": "@jupyter-widgets/base",
            "_model_module_version": "1.2.0",
            "_model_name": "LayoutModel",
            "_view_count": null,
            "_view_module": "@jupyter-widgets/base",
            "_view_module_version": "1.2.0",
            "_view_name": "LayoutView",
            "align_content": null,
            "align_items": null,
            "align_self": null,
            "border": null,
            "bottom": null,
            "display": null,
            "flex": null,
            "flex_flow": null,
            "grid_area": null,
            "grid_auto_columns": null,
            "grid_auto_flow": null,
            "grid_auto_rows": null,
            "grid_column": null,
            "grid_gap": null,
            "grid_row": null,
            "grid_template_areas": null,
            "grid_template_columns": null,
            "grid_template_rows": null,
            "height": null,
            "justify_content": null,
            "justify_items": null,
            "left": null,
            "margin": null,
            "max_height": null,
            "max_width": null,
            "min_height": null,
            "min_width": null,
            "object_fit": null,
            "object_position": null,
            "order": null,
            "overflow": null,
            "overflow_x": null,
            "overflow_y": null,
            "padding": null,
            "right": null,
            "top": null,
            "visibility": null,
            "width": null
          }
        },
        "ae37d2777e8d40c8bca8fe257dad0b65": {
          "model_module": "@jupyter-widgets/base",
          "model_name": "LayoutModel",
          "model_module_version": "1.2.0",
          "state": {
            "_model_module": "@jupyter-widgets/base",
            "_model_module_version": "1.2.0",
            "_model_name": "LayoutModel",
            "_view_count": null,
            "_view_module": "@jupyter-widgets/base",
            "_view_module_version": "1.2.0",
            "_view_name": "LayoutView",
            "align_content": null,
            "align_items": null,
            "align_self": null,
            "border": null,
            "bottom": null,
            "display": null,
            "flex": null,
            "flex_flow": null,
            "grid_area": null,
            "grid_auto_columns": null,
            "grid_auto_flow": null,
            "grid_auto_rows": null,
            "grid_column": null,
            "grid_gap": null,
            "grid_row": null,
            "grid_template_areas": null,
            "grid_template_columns": null,
            "grid_template_rows": null,
            "height": null,
            "justify_content": null,
            "justify_items": null,
            "left": null,
            "margin": null,
            "max_height": null,
            "max_width": null,
            "min_height": null,
            "min_width": null,
            "object_fit": null,
            "object_position": null,
            "order": null,
            "overflow": null,
            "overflow_x": null,
            "overflow_y": null,
            "padding": null,
            "right": null,
            "top": null,
            "visibility": null,
            "width": null
          }
        },
        "506c2bba085f4c529a7937ebd90f1f7b": {
          "model_module": "@jupyter-widgets/controls",
          "model_name": "DescriptionStyleModel",
          "model_module_version": "1.5.0",
          "state": {
            "_model_module": "@jupyter-widgets/controls",
            "_model_module_version": "1.5.0",
            "_model_name": "DescriptionStyleModel",
            "_view_count": null,
            "_view_module": "@jupyter-widgets/base",
            "_view_module_version": "1.2.0",
            "_view_name": "StyleView",
            "description_width": ""
          }
        },
        "9031b4ae68404efa93688b7e171df846": {
          "model_module": "@jupyter-widgets/base",
          "model_name": "LayoutModel",
          "model_module_version": "1.2.0",
          "state": {
            "_model_module": "@jupyter-widgets/base",
            "_model_module_version": "1.2.0",
            "_model_name": "LayoutModel",
            "_view_count": null,
            "_view_module": "@jupyter-widgets/base",
            "_view_module_version": "1.2.0",
            "_view_name": "LayoutView",
            "align_content": null,
            "align_items": null,
            "align_self": null,
            "border": null,
            "bottom": null,
            "display": null,
            "flex": null,
            "flex_flow": null,
            "grid_area": null,
            "grid_auto_columns": null,
            "grid_auto_flow": null,
            "grid_auto_rows": null,
            "grid_column": null,
            "grid_gap": null,
            "grid_row": null,
            "grid_template_areas": null,
            "grid_template_columns": null,
            "grid_template_rows": null,
            "height": null,
            "justify_content": null,
            "justify_items": null,
            "left": null,
            "margin": null,
            "max_height": null,
            "max_width": null,
            "min_height": null,
            "min_width": null,
            "object_fit": null,
            "object_position": null,
            "order": null,
            "overflow": null,
            "overflow_x": null,
            "overflow_y": null,
            "padding": null,
            "right": null,
            "top": null,
            "visibility": null,
            "width": null
          }
        },
        "47b1b4cc2ddc4e3ab62d41d4a75c842a": {
          "model_module": "@jupyter-widgets/controls",
          "model_name": "ProgressStyleModel",
          "model_module_version": "1.5.0",
          "state": {
            "_model_module": "@jupyter-widgets/controls",
            "_model_module_version": "1.5.0",
            "_model_name": "ProgressStyleModel",
            "_view_count": null,
            "_view_module": "@jupyter-widgets/base",
            "_view_module_version": "1.2.0",
            "_view_name": "StyleView",
            "bar_color": null,
            "description_width": ""
          }
        },
        "46fabd1458684cbba2e77ce84603630d": {
          "model_module": "@jupyter-widgets/base",
          "model_name": "LayoutModel",
          "model_module_version": "1.2.0",
          "state": {
            "_model_module": "@jupyter-widgets/base",
            "_model_module_version": "1.2.0",
            "_model_name": "LayoutModel",
            "_view_count": null,
            "_view_module": "@jupyter-widgets/base",
            "_view_module_version": "1.2.0",
            "_view_name": "LayoutView",
            "align_content": null,
            "align_items": null,
            "align_self": null,
            "border": null,
            "bottom": null,
            "display": null,
            "flex": null,
            "flex_flow": null,
            "grid_area": null,
            "grid_auto_columns": null,
            "grid_auto_flow": null,
            "grid_auto_rows": null,
            "grid_column": null,
            "grid_gap": null,
            "grid_row": null,
            "grid_template_areas": null,
            "grid_template_columns": null,
            "grid_template_rows": null,
            "height": null,
            "justify_content": null,
            "justify_items": null,
            "left": null,
            "margin": null,
            "max_height": null,
            "max_width": null,
            "min_height": null,
            "min_width": null,
            "object_fit": null,
            "object_position": null,
            "order": null,
            "overflow": null,
            "overflow_x": null,
            "overflow_y": null,
            "padding": null,
            "right": null,
            "top": null,
            "visibility": null,
            "width": null
          }
        },
        "3cde149dd2d142639d77163e8989d87a": {
          "model_module": "@jupyter-widgets/controls",
          "model_name": "DescriptionStyleModel",
          "model_module_version": "1.5.0",
          "state": {
            "_model_module": "@jupyter-widgets/controls",
            "_model_module_version": "1.5.0",
            "_model_name": "DescriptionStyleModel",
            "_view_count": null,
            "_view_module": "@jupyter-widgets/base",
            "_view_module_version": "1.2.0",
            "_view_name": "StyleView",
            "description_width": ""
          }
        },
        "7ce7ed6ba43440e493ad4e58a5dff02f": {
          "model_module": "@jupyter-widgets/controls",
          "model_name": "HBoxModel",
          "model_module_version": "1.5.0",
          "state": {
            "_dom_classes": [],
            "_model_module": "@jupyter-widgets/controls",
            "_model_module_version": "1.5.0",
            "_model_name": "HBoxModel",
            "_view_count": null,
            "_view_module": "@jupyter-widgets/controls",
            "_view_module_version": "1.5.0",
            "_view_name": "HBoxView",
            "box_style": "",
            "children": [
              "IPY_MODEL_f9e0347f2da54b799e7d55f7e2ee7db2",
              "IPY_MODEL_942c138652fc41be9e8a6bb801d41325",
              "IPY_MODEL_b53515f065d74f0f87bd61c3e833e4d4"
            ],
            "layout": "IPY_MODEL_3fb0a98a9fb542529a3651eafaf9487b"
          }
        },
        "f9e0347f2da54b799e7d55f7e2ee7db2": {
          "model_module": "@jupyter-widgets/controls",
          "model_name": "HTMLModel",
          "model_module_version": "1.5.0",
          "state": {
            "_dom_classes": [],
            "_model_module": "@jupyter-widgets/controls",
            "_model_module_version": "1.5.0",
            "_model_name": "HTMLModel",
            "_view_count": null,
            "_view_module": "@jupyter-widgets/controls",
            "_view_module_version": "1.5.0",
            "_view_name": "HTMLView",
            "description": "",
            "description_tooltip": null,
            "layout": "IPY_MODEL_5ca9c26d5bb54f9f88e92c93ed308538",
            "placeholder": "​",
            "style": "IPY_MODEL_d4915f26e3a9470d8f1fe82faaae50bd",
            "value": "config.json: 100%"
          }
        },
        "942c138652fc41be9e8a6bb801d41325": {
          "model_module": "@jupyter-widgets/controls",
          "model_name": "FloatProgressModel",
          "model_module_version": "1.5.0",
          "state": {
            "_dom_classes": [],
            "_model_module": "@jupyter-widgets/controls",
            "_model_module_version": "1.5.0",
            "_model_name": "FloatProgressModel",
            "_view_count": null,
            "_view_module": "@jupyter-widgets/controls",
            "_view_module_version": "1.5.0",
            "_view_name": "ProgressView",
            "bar_style": "success",
            "description": "",
            "description_tooltip": null,
            "layout": "IPY_MODEL_0598c6da225a423dbe85fa6047fab00e",
            "max": 570,
            "min": 0,
            "orientation": "horizontal",
            "style": "IPY_MODEL_17e5529ce85b4487a8f118442bcdff03",
            "value": 570
          }
        },
        "b53515f065d74f0f87bd61c3e833e4d4": {
          "model_module": "@jupyter-widgets/controls",
          "model_name": "HTMLModel",
          "model_module_version": "1.5.0",
          "state": {
            "_dom_classes": [],
            "_model_module": "@jupyter-widgets/controls",
            "_model_module_version": "1.5.0",
            "_model_name": "HTMLModel",
            "_view_count": null,
            "_view_module": "@jupyter-widgets/controls",
            "_view_module_version": "1.5.0",
            "_view_name": "HTMLView",
            "description": "",
            "description_tooltip": null,
            "layout": "IPY_MODEL_3b8b690a930448f4847ec7111666edee",
            "placeholder": "​",
            "style": "IPY_MODEL_0861d51244244c72bc3b4caae2e19b66",
            "value": " 570/570 [00:00&lt;00:00, 26.1kB/s]"
          }
        },
        "3fb0a98a9fb542529a3651eafaf9487b": {
          "model_module": "@jupyter-widgets/base",
          "model_name": "LayoutModel",
          "model_module_version": "1.2.0",
          "state": {
            "_model_module": "@jupyter-widgets/base",
            "_model_module_version": "1.2.0",
            "_model_name": "LayoutModel",
            "_view_count": null,
            "_view_module": "@jupyter-widgets/base",
            "_view_module_version": "1.2.0",
            "_view_name": "LayoutView",
            "align_content": null,
            "align_items": null,
            "align_self": null,
            "border": null,
            "bottom": null,
            "display": null,
            "flex": null,
            "flex_flow": null,
            "grid_area": null,
            "grid_auto_columns": null,
            "grid_auto_flow": null,
            "grid_auto_rows": null,
            "grid_column": null,
            "grid_gap": null,
            "grid_row": null,
            "grid_template_areas": null,
            "grid_template_columns": null,
            "grid_template_rows": null,
            "height": null,
            "justify_content": null,
            "justify_items": null,
            "left": null,
            "margin": null,
            "max_height": null,
            "max_width": null,
            "min_height": null,
            "min_width": null,
            "object_fit": null,
            "object_position": null,
            "order": null,
            "overflow": null,
            "overflow_x": null,
            "overflow_y": null,
            "padding": null,
            "right": null,
            "top": null,
            "visibility": null,
            "width": null
          }
        },
        "5ca9c26d5bb54f9f88e92c93ed308538": {
          "model_module": "@jupyter-widgets/base",
          "model_name": "LayoutModel",
          "model_module_version": "1.2.0",
          "state": {
            "_model_module": "@jupyter-widgets/base",
            "_model_module_version": "1.2.0",
            "_model_name": "LayoutModel",
            "_view_count": null,
            "_view_module": "@jupyter-widgets/base",
            "_view_module_version": "1.2.0",
            "_view_name": "LayoutView",
            "align_content": null,
            "align_items": null,
            "align_self": null,
            "border": null,
            "bottom": null,
            "display": null,
            "flex": null,
            "flex_flow": null,
            "grid_area": null,
            "grid_auto_columns": null,
            "grid_auto_flow": null,
            "grid_auto_rows": null,
            "grid_column": null,
            "grid_gap": null,
            "grid_row": null,
            "grid_template_areas": null,
            "grid_template_columns": null,
            "grid_template_rows": null,
            "height": null,
            "justify_content": null,
            "justify_items": null,
            "left": null,
            "margin": null,
            "max_height": null,
            "max_width": null,
            "min_height": null,
            "min_width": null,
            "object_fit": null,
            "object_position": null,
            "order": null,
            "overflow": null,
            "overflow_x": null,
            "overflow_y": null,
            "padding": null,
            "right": null,
            "top": null,
            "visibility": null,
            "width": null
          }
        },
        "d4915f26e3a9470d8f1fe82faaae50bd": {
          "model_module": "@jupyter-widgets/controls",
          "model_name": "DescriptionStyleModel",
          "model_module_version": "1.5.0",
          "state": {
            "_model_module": "@jupyter-widgets/controls",
            "_model_module_version": "1.5.0",
            "_model_name": "DescriptionStyleModel",
            "_view_count": null,
            "_view_module": "@jupyter-widgets/base",
            "_view_module_version": "1.2.0",
            "_view_name": "StyleView",
            "description_width": ""
          }
        },
        "0598c6da225a423dbe85fa6047fab00e": {
          "model_module": "@jupyter-widgets/base",
          "model_name": "LayoutModel",
          "model_module_version": "1.2.0",
          "state": {
            "_model_module": "@jupyter-widgets/base",
            "_model_module_version": "1.2.0",
            "_model_name": "LayoutModel",
            "_view_count": null,
            "_view_module": "@jupyter-widgets/base",
            "_view_module_version": "1.2.0",
            "_view_name": "LayoutView",
            "align_content": null,
            "align_items": null,
            "align_self": null,
            "border": null,
            "bottom": null,
            "display": null,
            "flex": null,
            "flex_flow": null,
            "grid_area": null,
            "grid_auto_columns": null,
            "grid_auto_flow": null,
            "grid_auto_rows": null,
            "grid_column": null,
            "grid_gap": null,
            "grid_row": null,
            "grid_template_areas": null,
            "grid_template_columns": null,
            "grid_template_rows": null,
            "height": null,
            "justify_content": null,
            "justify_items": null,
            "left": null,
            "margin": null,
            "max_height": null,
            "max_width": null,
            "min_height": null,
            "min_width": null,
            "object_fit": null,
            "object_position": null,
            "order": null,
            "overflow": null,
            "overflow_x": null,
            "overflow_y": null,
            "padding": null,
            "right": null,
            "top": null,
            "visibility": null,
            "width": null
          }
        },
        "17e5529ce85b4487a8f118442bcdff03": {
          "model_module": "@jupyter-widgets/controls",
          "model_name": "ProgressStyleModel",
          "model_module_version": "1.5.0",
          "state": {
            "_model_module": "@jupyter-widgets/controls",
            "_model_module_version": "1.5.0",
            "_model_name": "ProgressStyleModel",
            "_view_count": null,
            "_view_module": "@jupyter-widgets/base",
            "_view_module_version": "1.2.0",
            "_view_name": "StyleView",
            "bar_color": null,
            "description_width": ""
          }
        },
        "3b8b690a930448f4847ec7111666edee": {
          "model_module": "@jupyter-widgets/base",
          "model_name": "LayoutModel",
          "model_module_version": "1.2.0",
          "state": {
            "_model_module": "@jupyter-widgets/base",
            "_model_module_version": "1.2.0",
            "_model_name": "LayoutModel",
            "_view_count": null,
            "_view_module": "@jupyter-widgets/base",
            "_view_module_version": "1.2.0",
            "_view_name": "LayoutView",
            "align_content": null,
            "align_items": null,
            "align_self": null,
            "border": null,
            "bottom": null,
            "display": null,
            "flex": null,
            "flex_flow": null,
            "grid_area": null,
            "grid_auto_columns": null,
            "grid_auto_flow": null,
            "grid_auto_rows": null,
            "grid_column": null,
            "grid_gap": null,
            "grid_row": null,
            "grid_template_areas": null,
            "grid_template_columns": null,
            "grid_template_rows": null,
            "height": null,
            "justify_content": null,
            "justify_items": null,
            "left": null,
            "margin": null,
            "max_height": null,
            "max_width": null,
            "min_height": null,
            "min_width": null,
            "object_fit": null,
            "object_position": null,
            "order": null,
            "overflow": null,
            "overflow_x": null,
            "overflow_y": null,
            "padding": null,
            "right": null,
            "top": null,
            "visibility": null,
            "width": null
          }
        },
        "0861d51244244c72bc3b4caae2e19b66": {
          "model_module": "@jupyter-widgets/controls",
          "model_name": "DescriptionStyleModel",
          "model_module_version": "1.5.0",
          "state": {
            "_model_module": "@jupyter-widgets/controls",
            "_model_module_version": "1.5.0",
            "_model_name": "DescriptionStyleModel",
            "_view_count": null,
            "_view_module": "@jupyter-widgets/base",
            "_view_module_version": "1.2.0",
            "_view_name": "StyleView",
            "description_width": ""
          }
        },
        "c45bfcf7638a4424bc8ffc733ebebaa3": {
          "model_module": "@jupyter-widgets/controls",
          "model_name": "HBoxModel",
          "model_module_version": "1.5.0",
          "state": {
            "_dom_classes": [],
            "_model_module": "@jupyter-widgets/controls",
            "_model_module_version": "1.5.0",
            "_model_name": "HBoxModel",
            "_view_count": null,
            "_view_module": "@jupyter-widgets/controls",
            "_view_module_version": "1.5.0",
            "_view_name": "HBoxView",
            "box_style": "",
            "children": [
              "IPY_MODEL_e93667659c934c5da6aa06afdfe51b7f",
              "IPY_MODEL_79f956f5f5bd4cc4bf9ebc3e0f17f7e6",
              "IPY_MODEL_5407126264d54d64ab8a464323082090"
            ],
            "layout": "IPY_MODEL_e10b51ca4dc9447286e5de9fbd905afa"
          }
        },
        "e93667659c934c5da6aa06afdfe51b7f": {
          "model_module": "@jupyter-widgets/controls",
          "model_name": "HTMLModel",
          "model_module_version": "1.5.0",
          "state": {
            "_dom_classes": [],
            "_model_module": "@jupyter-widgets/controls",
            "_model_module_version": "1.5.0",
            "_model_name": "HTMLModel",
            "_view_count": null,
            "_view_module": "@jupyter-widgets/controls",
            "_view_module_version": "1.5.0",
            "_view_name": "HTMLView",
            "description": "",
            "description_tooltip": null,
            "layout": "IPY_MODEL_de03953fc31346ecb58ce6ad99640e22",
            "placeholder": "​",
            "style": "IPY_MODEL_fa38d4d484594e13a049ec9922593350",
            "value": "model.safetensors: 100%"
          }
        },
        "79f956f5f5bd4cc4bf9ebc3e0f17f7e6": {
          "model_module": "@jupyter-widgets/controls",
          "model_name": "FloatProgressModel",
          "model_module_version": "1.5.0",
          "state": {
            "_dom_classes": [],
            "_model_module": "@jupyter-widgets/controls",
            "_model_module_version": "1.5.0",
            "_model_name": "FloatProgressModel",
            "_view_count": null,
            "_view_module": "@jupyter-widgets/controls",
            "_view_module_version": "1.5.0",
            "_view_name": "ProgressView",
            "bar_style": "success",
            "description": "",
            "description_tooltip": null,
            "layout": "IPY_MODEL_79e59a16f142462790072e0d5a1e6598",
            "max": 440449768,
            "min": 0,
            "orientation": "horizontal",
            "style": "IPY_MODEL_5e8ee03c4ccf43f1bdb01440337c091f",
            "value": 440449768
          }
        },
        "5407126264d54d64ab8a464323082090": {
          "model_module": "@jupyter-widgets/controls",
          "model_name": "HTMLModel",
          "model_module_version": "1.5.0",
          "state": {
            "_dom_classes": [],
            "_model_module": "@jupyter-widgets/controls",
            "_model_module_version": "1.5.0",
            "_model_name": "HTMLModel",
            "_view_count": null,
            "_view_module": "@jupyter-widgets/controls",
            "_view_module_version": "1.5.0",
            "_view_name": "HTMLView",
            "description": "",
            "description_tooltip": null,
            "layout": "IPY_MODEL_b1fe3f3357a94204a70903989aa92cad",
            "placeholder": "​",
            "style": "IPY_MODEL_780719f6aab146f7a2b9cf5960c7e459",
            "value": " 440M/440M [00:11&lt;00:00, 52.2MB/s]"
          }
        },
        "e10b51ca4dc9447286e5de9fbd905afa": {
          "model_module": "@jupyter-widgets/base",
          "model_name": "LayoutModel",
          "model_module_version": "1.2.0",
          "state": {
            "_model_module": "@jupyter-widgets/base",
            "_model_module_version": "1.2.0",
            "_model_name": "LayoutModel",
            "_view_count": null,
            "_view_module": "@jupyter-widgets/base",
            "_view_module_version": "1.2.0",
            "_view_name": "LayoutView",
            "align_content": null,
            "align_items": null,
            "align_self": null,
            "border": null,
            "bottom": null,
            "display": null,
            "flex": null,
            "flex_flow": null,
            "grid_area": null,
            "grid_auto_columns": null,
            "grid_auto_flow": null,
            "grid_auto_rows": null,
            "grid_column": null,
            "grid_gap": null,
            "grid_row": null,
            "grid_template_areas": null,
            "grid_template_columns": null,
            "grid_template_rows": null,
            "height": null,
            "justify_content": null,
            "justify_items": null,
            "left": null,
            "margin": null,
            "max_height": null,
            "max_width": null,
            "min_height": null,
            "min_width": null,
            "object_fit": null,
            "object_position": null,
            "order": null,
            "overflow": null,
            "overflow_x": null,
            "overflow_y": null,
            "padding": null,
            "right": null,
            "top": null,
            "visibility": null,
            "width": null
          }
        },
        "de03953fc31346ecb58ce6ad99640e22": {
          "model_module": "@jupyter-widgets/base",
          "model_name": "LayoutModel",
          "model_module_version": "1.2.0",
          "state": {
            "_model_module": "@jupyter-widgets/base",
            "_model_module_version": "1.2.0",
            "_model_name": "LayoutModel",
            "_view_count": null,
            "_view_module": "@jupyter-widgets/base",
            "_view_module_version": "1.2.0",
            "_view_name": "LayoutView",
            "align_content": null,
            "align_items": null,
            "align_self": null,
            "border": null,
            "bottom": null,
            "display": null,
            "flex": null,
            "flex_flow": null,
            "grid_area": null,
            "grid_auto_columns": null,
            "grid_auto_flow": null,
            "grid_auto_rows": null,
            "grid_column": null,
            "grid_gap": null,
            "grid_row": null,
            "grid_template_areas": null,
            "grid_template_columns": null,
            "grid_template_rows": null,
            "height": null,
            "justify_content": null,
            "justify_items": null,
            "left": null,
            "margin": null,
            "max_height": null,
            "max_width": null,
            "min_height": null,
            "min_width": null,
            "object_fit": null,
            "object_position": null,
            "order": null,
            "overflow": null,
            "overflow_x": null,
            "overflow_y": null,
            "padding": null,
            "right": null,
            "top": null,
            "visibility": null,
            "width": null
          }
        },
        "fa38d4d484594e13a049ec9922593350": {
          "model_module": "@jupyter-widgets/controls",
          "model_name": "DescriptionStyleModel",
          "model_module_version": "1.5.0",
          "state": {
            "_model_module": "@jupyter-widgets/controls",
            "_model_module_version": "1.5.0",
            "_model_name": "DescriptionStyleModel",
            "_view_count": null,
            "_view_module": "@jupyter-widgets/base",
            "_view_module_version": "1.2.0",
            "_view_name": "StyleView",
            "description_width": ""
          }
        },
        "79e59a16f142462790072e0d5a1e6598": {
          "model_module": "@jupyter-widgets/base",
          "model_name": "LayoutModel",
          "model_module_version": "1.2.0",
          "state": {
            "_model_module": "@jupyter-widgets/base",
            "_model_module_version": "1.2.0",
            "_model_name": "LayoutModel",
            "_view_count": null,
            "_view_module": "@jupyter-widgets/base",
            "_view_module_version": "1.2.0",
            "_view_name": "LayoutView",
            "align_content": null,
            "align_items": null,
            "align_self": null,
            "border": null,
            "bottom": null,
            "display": null,
            "flex": null,
            "flex_flow": null,
            "grid_area": null,
            "grid_auto_columns": null,
            "grid_auto_flow": null,
            "grid_auto_rows": null,
            "grid_column": null,
            "grid_gap": null,
            "grid_row": null,
            "grid_template_areas": null,
            "grid_template_columns": null,
            "grid_template_rows": null,
            "height": null,
            "justify_content": null,
            "justify_items": null,
            "left": null,
            "margin": null,
            "max_height": null,
            "max_width": null,
            "min_height": null,
            "min_width": null,
            "object_fit": null,
            "object_position": null,
            "order": null,
            "overflow": null,
            "overflow_x": null,
            "overflow_y": null,
            "padding": null,
            "right": null,
            "top": null,
            "visibility": null,
            "width": null
          }
        },
        "5e8ee03c4ccf43f1bdb01440337c091f": {
          "model_module": "@jupyter-widgets/controls",
          "model_name": "ProgressStyleModel",
          "model_module_version": "1.5.0",
          "state": {
            "_model_module": "@jupyter-widgets/controls",
            "_model_module_version": "1.5.0",
            "_model_name": "ProgressStyleModel",
            "_view_count": null,
            "_view_module": "@jupyter-widgets/base",
            "_view_module_version": "1.2.0",
            "_view_name": "StyleView",
            "bar_color": null,
            "description_width": ""
          }
        },
        "b1fe3f3357a94204a70903989aa92cad": {
          "model_module": "@jupyter-widgets/base",
          "model_name": "LayoutModel",
          "model_module_version": "1.2.0",
          "state": {
            "_model_module": "@jupyter-widgets/base",
            "_model_module_version": "1.2.0",
            "_model_name": "LayoutModel",
            "_view_count": null,
            "_view_module": "@jupyter-widgets/base",
            "_view_module_version": "1.2.0",
            "_view_name": "LayoutView",
            "align_content": null,
            "align_items": null,
            "align_self": null,
            "border": null,
            "bottom": null,
            "display": null,
            "flex": null,
            "flex_flow": null,
            "grid_area": null,
            "grid_auto_columns": null,
            "grid_auto_flow": null,
            "grid_auto_rows": null,
            "grid_column": null,
            "grid_gap": null,
            "grid_row": null,
            "grid_template_areas": null,
            "grid_template_columns": null,
            "grid_template_rows": null,
            "height": null,
            "justify_content": null,
            "justify_items": null,
            "left": null,
            "margin": null,
            "max_height": null,
            "max_width": null,
            "min_height": null,
            "min_width": null,
            "object_fit": null,
            "object_position": null,
            "order": null,
            "overflow": null,
            "overflow_x": null,
            "overflow_y": null,
            "padding": null,
            "right": null,
            "top": null,
            "visibility": null,
            "width": null
          }
        },
        "780719f6aab146f7a2b9cf5960c7e459": {
          "model_module": "@jupyter-widgets/controls",
          "model_name": "DescriptionStyleModel",
          "model_module_version": "1.5.0",
          "state": {
            "_model_module": "@jupyter-widgets/controls",
            "_model_module_version": "1.5.0",
            "_model_name": "DescriptionStyleModel",
            "_view_count": null,
            "_view_module": "@jupyter-widgets/base",
            "_view_module_version": "1.2.0",
            "_view_name": "StyleView",
            "description_width": ""
          }
        },
        "9d221ca0e3bd4feab4f727a6141dcc6d": {
          "model_module": "@jupyter-widgets/controls",
          "model_name": "HBoxModel",
          "model_module_version": "1.5.0",
          "state": {
            "_dom_classes": [],
            "_model_module": "@jupyter-widgets/controls",
            "_model_module_version": "1.5.0",
            "_model_name": "HBoxModel",
            "_view_count": null,
            "_view_module": "@jupyter-widgets/controls",
            "_view_module_version": "1.5.0",
            "_view_name": "HBoxView",
            "box_style": "",
            "children": [
              "IPY_MODEL_2e79f93766764f388b33d0e0b60444b6",
              "IPY_MODEL_7a6c3ba1c8a345ca9bb83df8a08c47bd",
              "IPY_MODEL_339a7abb83b646eda1dc4e4e6886063e"
            ],
            "layout": "IPY_MODEL_364ea5ced48a4d3ea268bf0a30d405a8"
          }
        },
        "2e79f93766764f388b33d0e0b60444b6": {
          "model_module": "@jupyter-widgets/controls",
          "model_name": "HTMLModel",
          "model_module_version": "1.5.0",
          "state": {
            "_dom_classes": [],
            "_model_module": "@jupyter-widgets/controls",
            "_model_module_version": "1.5.0",
            "_model_name": "HTMLModel",
            "_view_count": null,
            "_view_module": "@jupyter-widgets/controls",
            "_view_module_version": "1.5.0",
            "_view_name": "HTMLView",
            "description": "",
            "description_tooltip": null,
            "layout": "IPY_MODEL_e7d5b277f6584175833749c3c20fbf41",
            "placeholder": "​",
            "style": "IPY_MODEL_154a87c611c14660a18077278b14c9fd",
            "value": "Map: 100%"
          }
        },
        "7a6c3ba1c8a345ca9bb83df8a08c47bd": {
          "model_module": "@jupyter-widgets/controls",
          "model_name": "FloatProgressModel",
          "model_module_version": "1.5.0",
          "state": {
            "_dom_classes": [],
            "_model_module": "@jupyter-widgets/controls",
            "_model_module_version": "1.5.0",
            "_model_name": "FloatProgressModel",
            "_view_count": null,
            "_view_module": "@jupyter-widgets/controls",
            "_view_module_version": "1.5.0",
            "_view_name": "ProgressView",
            "bar_style": "success",
            "description": "",
            "description_tooltip": null,
            "layout": "IPY_MODEL_6789e80be9a0472fbe0cf35885db6d89",
            "max": 2000,
            "min": 0,
            "orientation": "horizontal",
            "style": "IPY_MODEL_391404360f06481fa1064e3245edca5f",
            "value": 2000
          }
        },
        "339a7abb83b646eda1dc4e4e6886063e": {
          "model_module": "@jupyter-widgets/controls",
          "model_name": "HTMLModel",
          "model_module_version": "1.5.0",
          "state": {
            "_dom_classes": [],
            "_model_module": "@jupyter-widgets/controls",
            "_model_module_version": "1.5.0",
            "_model_name": "HTMLModel",
            "_view_count": null,
            "_view_module": "@jupyter-widgets/controls",
            "_view_module_version": "1.5.0",
            "_view_name": "HTMLView",
            "description": "",
            "description_tooltip": null,
            "layout": "IPY_MODEL_ee33e387094c44688e5fc8aebc259dbd",
            "placeholder": "​",
            "style": "IPY_MODEL_9f57b7b5b8b04a13980e7ac40985e562",
            "value": " 2000/2000 [00:02&lt;00:00, 890.59 examples/s]"
          }
        },
        "364ea5ced48a4d3ea268bf0a30d405a8": {
          "model_module": "@jupyter-widgets/base",
          "model_name": "LayoutModel",
          "model_module_version": "1.2.0",
          "state": {
            "_model_module": "@jupyter-widgets/base",
            "_model_module_version": "1.2.0",
            "_model_name": "LayoutModel",
            "_view_count": null,
            "_view_module": "@jupyter-widgets/base",
            "_view_module_version": "1.2.0",
            "_view_name": "LayoutView",
            "align_content": null,
            "align_items": null,
            "align_self": null,
            "border": null,
            "bottom": null,
            "display": null,
            "flex": null,
            "flex_flow": null,
            "grid_area": null,
            "grid_auto_columns": null,
            "grid_auto_flow": null,
            "grid_auto_rows": null,
            "grid_column": null,
            "grid_gap": null,
            "grid_row": null,
            "grid_template_areas": null,
            "grid_template_columns": null,
            "grid_template_rows": null,
            "height": null,
            "justify_content": null,
            "justify_items": null,
            "left": null,
            "margin": null,
            "max_height": null,
            "max_width": null,
            "min_height": null,
            "min_width": null,
            "object_fit": null,
            "object_position": null,
            "order": null,
            "overflow": null,
            "overflow_x": null,
            "overflow_y": null,
            "padding": null,
            "right": null,
            "top": null,
            "visibility": null,
            "width": null
          }
        },
        "e7d5b277f6584175833749c3c20fbf41": {
          "model_module": "@jupyter-widgets/base",
          "model_name": "LayoutModel",
          "model_module_version": "1.2.0",
          "state": {
            "_model_module": "@jupyter-widgets/base",
            "_model_module_version": "1.2.0",
            "_model_name": "LayoutModel",
            "_view_count": null,
            "_view_module": "@jupyter-widgets/base",
            "_view_module_version": "1.2.0",
            "_view_name": "LayoutView",
            "align_content": null,
            "align_items": null,
            "align_self": null,
            "border": null,
            "bottom": null,
            "display": null,
            "flex": null,
            "flex_flow": null,
            "grid_area": null,
            "grid_auto_columns": null,
            "grid_auto_flow": null,
            "grid_auto_rows": null,
            "grid_column": null,
            "grid_gap": null,
            "grid_row": null,
            "grid_template_areas": null,
            "grid_template_columns": null,
            "grid_template_rows": null,
            "height": null,
            "justify_content": null,
            "justify_items": null,
            "left": null,
            "margin": null,
            "max_height": null,
            "max_width": null,
            "min_height": null,
            "min_width": null,
            "object_fit": null,
            "object_position": null,
            "order": null,
            "overflow": null,
            "overflow_x": null,
            "overflow_y": null,
            "padding": null,
            "right": null,
            "top": null,
            "visibility": null,
            "width": null
          }
        },
        "154a87c611c14660a18077278b14c9fd": {
          "model_module": "@jupyter-widgets/controls",
          "model_name": "DescriptionStyleModel",
          "model_module_version": "1.5.0",
          "state": {
            "_model_module": "@jupyter-widgets/controls",
            "_model_module_version": "1.5.0",
            "_model_name": "DescriptionStyleModel",
            "_view_count": null,
            "_view_module": "@jupyter-widgets/base",
            "_view_module_version": "1.2.0",
            "_view_name": "StyleView",
            "description_width": ""
          }
        },
        "6789e80be9a0472fbe0cf35885db6d89": {
          "model_module": "@jupyter-widgets/base",
          "model_name": "LayoutModel",
          "model_module_version": "1.2.0",
          "state": {
            "_model_module": "@jupyter-widgets/base",
            "_model_module_version": "1.2.0",
            "_model_name": "LayoutModel",
            "_view_count": null,
            "_view_module": "@jupyter-widgets/base",
            "_view_module_version": "1.2.0",
            "_view_name": "LayoutView",
            "align_content": null,
            "align_items": null,
            "align_self": null,
            "border": null,
            "bottom": null,
            "display": null,
            "flex": null,
            "flex_flow": null,
            "grid_area": null,
            "grid_auto_columns": null,
            "grid_auto_flow": null,
            "grid_auto_rows": null,
            "grid_column": null,
            "grid_gap": null,
            "grid_row": null,
            "grid_template_areas": null,
            "grid_template_columns": null,
            "grid_template_rows": null,
            "height": null,
            "justify_content": null,
            "justify_items": null,
            "left": null,
            "margin": null,
            "max_height": null,
            "max_width": null,
            "min_height": null,
            "min_width": null,
            "object_fit": null,
            "object_position": null,
            "order": null,
            "overflow": null,
            "overflow_x": null,
            "overflow_y": null,
            "padding": null,
            "right": null,
            "top": null,
            "visibility": null,
            "width": null
          }
        },
        "391404360f06481fa1064e3245edca5f": {
          "model_module": "@jupyter-widgets/controls",
          "model_name": "ProgressStyleModel",
          "model_module_version": "1.5.0",
          "state": {
            "_model_module": "@jupyter-widgets/controls",
            "_model_module_version": "1.5.0",
            "_model_name": "ProgressStyleModel",
            "_view_count": null,
            "_view_module": "@jupyter-widgets/base",
            "_view_module_version": "1.2.0",
            "_view_name": "StyleView",
            "bar_color": null,
            "description_width": ""
          }
        },
        "ee33e387094c44688e5fc8aebc259dbd": {
          "model_module": "@jupyter-widgets/base",
          "model_name": "LayoutModel",
          "model_module_version": "1.2.0",
          "state": {
            "_model_module": "@jupyter-widgets/base",
            "_model_module_version": "1.2.0",
            "_model_name": "LayoutModel",
            "_view_count": null,
            "_view_module": "@jupyter-widgets/base",
            "_view_module_version": "1.2.0",
            "_view_name": "LayoutView",
            "align_content": null,
            "align_items": null,
            "align_self": null,
            "border": null,
            "bottom": null,
            "display": null,
            "flex": null,
            "flex_flow": null,
            "grid_area": null,
            "grid_auto_columns": null,
            "grid_auto_flow": null,
            "grid_auto_rows": null,
            "grid_column": null,
            "grid_gap": null,
            "grid_row": null,
            "grid_template_areas": null,
            "grid_template_columns": null,
            "grid_template_rows": null,
            "height": null,
            "justify_content": null,
            "justify_items": null,
            "left": null,
            "margin": null,
            "max_height": null,
            "max_width": null,
            "min_height": null,
            "min_width": null,
            "object_fit": null,
            "object_position": null,
            "order": null,
            "overflow": null,
            "overflow_x": null,
            "overflow_y": null,
            "padding": null,
            "right": null,
            "top": null,
            "visibility": null,
            "width": null
          }
        },
        "9f57b7b5b8b04a13980e7ac40985e562": {
          "model_module": "@jupyter-widgets/controls",
          "model_name": "DescriptionStyleModel",
          "model_module_version": "1.5.0",
          "state": {
            "_model_module": "@jupyter-widgets/controls",
            "_model_module_version": "1.5.0",
            "_model_name": "DescriptionStyleModel",
            "_view_count": null,
            "_view_module": "@jupyter-widgets/base",
            "_view_module_version": "1.2.0",
            "_view_name": "StyleView",
            "description_width": ""
          }
        },
        "14c7996ef74e44f2bef30286427b3f83": {
          "model_module": "@jupyter-widgets/controls",
          "model_name": "HBoxModel",
          "model_module_version": "1.5.0",
          "state": {
            "_dom_classes": [],
            "_model_module": "@jupyter-widgets/controls",
            "_model_module_version": "1.5.0",
            "_model_name": "HBoxModel",
            "_view_count": null,
            "_view_module": "@jupyter-widgets/controls",
            "_view_module_version": "1.5.0",
            "_view_name": "HBoxView",
            "box_style": "",
            "children": [
              "IPY_MODEL_bf5702507ca743d3ac3c90e5a8661dca",
              "IPY_MODEL_6badce8517174a6fbd1ec225643e7070",
              "IPY_MODEL_79356ed08c334ca986f65281fe4ee425"
            ],
            "layout": "IPY_MODEL_7790fc3d59d84fc39fd33df2a73cfc6b"
          }
        },
        "bf5702507ca743d3ac3c90e5a8661dca": {
          "model_module": "@jupyter-widgets/controls",
          "model_name": "HTMLModel",
          "model_module_version": "1.5.0",
          "state": {
            "_dom_classes": [],
            "_model_module": "@jupyter-widgets/controls",
            "_model_module_version": "1.5.0",
            "_model_name": "HTMLModel",
            "_view_count": null,
            "_view_module": "@jupyter-widgets/controls",
            "_view_module_version": "1.5.0",
            "_view_name": "HTMLView",
            "description": "",
            "description_tooltip": null,
            "layout": "IPY_MODEL_3aedafb8b2994de6bd0c193bcab2a3b4",
            "placeholder": "​",
            "style": "IPY_MODEL_396ebe7c6720474ba9edbd405e493a3f",
            "value": "100%"
          }
        },
        "6badce8517174a6fbd1ec225643e7070": {
          "model_module": "@jupyter-widgets/controls",
          "model_name": "FloatProgressModel",
          "model_module_version": "1.5.0",
          "state": {
            "_dom_classes": [],
            "_model_module": "@jupyter-widgets/controls",
            "_model_module_version": "1.5.0",
            "_model_name": "FloatProgressModel",
            "_view_count": null,
            "_view_module": "@jupyter-widgets/controls",
            "_view_module_version": "1.5.0",
            "_view_name": "ProgressView",
            "bar_style": "",
            "description": "",
            "description_tooltip": null,
            "layout": "IPY_MODEL_8fee2225381743b1b2d6b5629323806c",
            "max": 4000,
            "min": 0,
            "orientation": "horizontal",
            "style": "IPY_MODEL_77cf04333b5745b5859b4b6099961be8",
            "value": 4000
          }
        },
        "79356ed08c334ca986f65281fe4ee425": {
          "model_module": "@jupyter-widgets/controls",
          "model_name": "HTMLModel",
          "model_module_version": "1.5.0",
          "state": {
            "_dom_classes": [],
            "_model_module": "@jupyter-widgets/controls",
            "_model_module_version": "1.5.0",
            "_model_name": "HTMLModel",
            "_view_count": null,
            "_view_module": "@jupyter-widgets/controls",
            "_view_module_version": "1.5.0",
            "_view_name": "HTMLView",
            "description": "",
            "description_tooltip": null,
            "layout": "IPY_MODEL_21f8f5c968604b30a33f6ed21c5e34cc",
            "placeholder": "​",
            "style": "IPY_MODEL_3cfe2fda850c4a41858abdd26c78c082",
            "value": " 4000/4000 [02:45&lt;00:00, 26.22it/s]"
          }
        },
        "7790fc3d59d84fc39fd33df2a73cfc6b": {
          "model_module": "@jupyter-widgets/base",
          "model_name": "LayoutModel",
          "model_module_version": "1.2.0",
          "state": {
            "_model_module": "@jupyter-widgets/base",
            "_model_module_version": "1.2.0",
            "_model_name": "LayoutModel",
            "_view_count": null,
            "_view_module": "@jupyter-widgets/base",
            "_view_module_version": "1.2.0",
            "_view_name": "LayoutView",
            "align_content": null,
            "align_items": null,
            "align_self": null,
            "border": null,
            "bottom": null,
            "display": null,
            "flex": null,
            "flex_flow": null,
            "grid_area": null,
            "grid_auto_columns": null,
            "grid_auto_flow": null,
            "grid_auto_rows": null,
            "grid_column": null,
            "grid_gap": null,
            "grid_row": null,
            "grid_template_areas": null,
            "grid_template_columns": null,
            "grid_template_rows": null,
            "height": null,
            "justify_content": null,
            "justify_items": null,
            "left": null,
            "margin": null,
            "max_height": null,
            "max_width": null,
            "min_height": null,
            "min_width": null,
            "object_fit": null,
            "object_position": null,
            "order": null,
            "overflow": null,
            "overflow_x": null,
            "overflow_y": null,
            "padding": null,
            "right": null,
            "top": null,
            "visibility": null,
            "width": null
          }
        },
        "3aedafb8b2994de6bd0c193bcab2a3b4": {
          "model_module": "@jupyter-widgets/base",
          "model_name": "LayoutModel",
          "model_module_version": "1.2.0",
          "state": {
            "_model_module": "@jupyter-widgets/base",
            "_model_module_version": "1.2.0",
            "_model_name": "LayoutModel",
            "_view_count": null,
            "_view_module": "@jupyter-widgets/base",
            "_view_module_version": "1.2.0",
            "_view_name": "LayoutView",
            "align_content": null,
            "align_items": null,
            "align_self": null,
            "border": null,
            "bottom": null,
            "display": null,
            "flex": null,
            "flex_flow": null,
            "grid_area": null,
            "grid_auto_columns": null,
            "grid_auto_flow": null,
            "grid_auto_rows": null,
            "grid_column": null,
            "grid_gap": null,
            "grid_row": null,
            "grid_template_areas": null,
            "grid_template_columns": null,
            "grid_template_rows": null,
            "height": null,
            "justify_content": null,
            "justify_items": null,
            "left": null,
            "margin": null,
            "max_height": null,
            "max_width": null,
            "min_height": null,
            "min_width": null,
            "object_fit": null,
            "object_position": null,
            "order": null,
            "overflow": null,
            "overflow_x": null,
            "overflow_y": null,
            "padding": null,
            "right": null,
            "top": null,
            "visibility": null,
            "width": null
          }
        },
        "396ebe7c6720474ba9edbd405e493a3f": {
          "model_module": "@jupyter-widgets/controls",
          "model_name": "DescriptionStyleModel",
          "model_module_version": "1.5.0",
          "state": {
            "_model_module": "@jupyter-widgets/controls",
            "_model_module_version": "1.5.0",
            "_model_name": "DescriptionStyleModel",
            "_view_count": null,
            "_view_module": "@jupyter-widgets/base",
            "_view_module_version": "1.2.0",
            "_view_name": "StyleView",
            "description_width": ""
          }
        },
        "8fee2225381743b1b2d6b5629323806c": {
          "model_module": "@jupyter-widgets/base",
          "model_name": "LayoutModel",
          "model_module_version": "1.2.0",
          "state": {
            "_model_module": "@jupyter-widgets/base",
            "_model_module_version": "1.2.0",
            "_model_name": "LayoutModel",
            "_view_count": null,
            "_view_module": "@jupyter-widgets/base",
            "_view_module_version": "1.2.0",
            "_view_name": "LayoutView",
            "align_content": null,
            "align_items": null,
            "align_self": null,
            "border": null,
            "bottom": null,
            "display": null,
            "flex": null,
            "flex_flow": null,
            "grid_area": null,
            "grid_auto_columns": null,
            "grid_auto_flow": null,
            "grid_auto_rows": null,
            "grid_column": null,
            "grid_gap": null,
            "grid_row": null,
            "grid_template_areas": null,
            "grid_template_columns": null,
            "grid_template_rows": null,
            "height": null,
            "justify_content": null,
            "justify_items": null,
            "left": null,
            "margin": null,
            "max_height": null,
            "max_width": null,
            "min_height": null,
            "min_width": null,
            "object_fit": null,
            "object_position": null,
            "order": null,
            "overflow": null,
            "overflow_x": null,
            "overflow_y": null,
            "padding": null,
            "right": null,
            "top": null,
            "visibility": null,
            "width": null
          }
        },
        "77cf04333b5745b5859b4b6099961be8": {
          "model_module": "@jupyter-widgets/controls",
          "model_name": "ProgressStyleModel",
          "model_module_version": "1.5.0",
          "state": {
            "_model_module": "@jupyter-widgets/controls",
            "_model_module_version": "1.5.0",
            "_model_name": "ProgressStyleModel",
            "_view_count": null,
            "_view_module": "@jupyter-widgets/base",
            "_view_module_version": "1.2.0",
            "_view_name": "StyleView",
            "bar_color": null,
            "description_width": ""
          }
        },
        "21f8f5c968604b30a33f6ed21c5e34cc": {
          "model_module": "@jupyter-widgets/base",
          "model_name": "LayoutModel",
          "model_module_version": "1.2.0",
          "state": {
            "_model_module": "@jupyter-widgets/base",
            "_model_module_version": "1.2.0",
            "_model_name": "LayoutModel",
            "_view_count": null,
            "_view_module": "@jupyter-widgets/base",
            "_view_module_version": "1.2.0",
            "_view_name": "LayoutView",
            "align_content": null,
            "align_items": null,
            "align_self": null,
            "border": null,
            "bottom": null,
            "display": null,
            "flex": null,
            "flex_flow": null,
            "grid_area": null,
            "grid_auto_columns": null,
            "grid_auto_flow": null,
            "grid_auto_rows": null,
            "grid_column": null,
            "grid_gap": null,
            "grid_row": null,
            "grid_template_areas": null,
            "grid_template_columns": null,
            "grid_template_rows": null,
            "height": null,
            "justify_content": null,
            "justify_items": null,
            "left": null,
            "margin": null,
            "max_height": null,
            "max_width": null,
            "min_height": null,
            "min_width": null,
            "object_fit": null,
            "object_position": null,
            "order": null,
            "overflow": null,
            "overflow_x": null,
            "overflow_y": null,
            "padding": null,
            "right": null,
            "top": null,
            "visibility": null,
            "width": null
          }
        },
        "3cfe2fda850c4a41858abdd26c78c082": {
          "model_module": "@jupyter-widgets/controls",
          "model_name": "DescriptionStyleModel",
          "model_module_version": "1.5.0",
          "state": {
            "_model_module": "@jupyter-widgets/controls",
            "_model_module_version": "1.5.0",
            "_model_name": "DescriptionStyleModel",
            "_view_count": null,
            "_view_module": "@jupyter-widgets/base",
            "_view_module_version": "1.2.0",
            "_view_name": "StyleView",
            "description_width": ""
          }
        }
      }
    }
  },
  "cells": [
    {
      "cell_type": "markdown",
      "metadata": {
        "id": "view-in-github",
        "colab_type": "text"
      },
      "source": [
        "<a href=\"https://colab.research.google.com/github/enzocatorano/deep_learning_practicas/blob/master/8_1_Transformers.ipynb\" target=\"_parent\"><img src=\"https://colab.research.google.com/assets/colab-badge.svg\" alt=\"Open In Colab\"/></a>"
      ]
    },
    {
      "cell_type": "markdown",
      "metadata": {
        "id": "wCmNQzEY0kwb"
      },
      "source": [
        "# Aprendizaje Profundo FICH: Transformers y Mecanismos de atención\n",
        "## Fine-tuning de un modelo pre-entrenado BERT\n",
        "\n",
        "En esta notebook vamos a aprender a realizar un ajuste fino en un modelo pre-entrenado de tipo BERT. El objetivo es que puedan ver como tokenizar automaticament un texto y enmascararlo correctamente. Una vez concluido este paso, poder realizar un ajuste funo usando la función Trainer a partir de la librería de [Hugging Face](https://huggingface.co/transformers/).\n",
        "\n",
        "Para más colab con distintas aplicaciones de Transformers a problemas de NLP recomendamos [acá](https://huggingface.co/transformers/notebooks.html)."
      ]
    },
    {
      "cell_type": "code",
      "metadata": {
        "colab": {
          "base_uri": "https://localhost:8080/"
        },
        "id": "gC581LAXUyZs",
        "outputId": "098b1419-5c24-465a-bf3b-1148d83778be"
      },
      "source": [
        "!pip install transformers\n",
        "from transformers import BertTokenizer, BertForMaskedLM, TrainingArguments, Trainer\n",
        "import torch"
      ],
      "execution_count": 1,
      "outputs": [
        {
          "output_type": "stream",
          "name": "stdout",
          "text": [
            "Requirement already satisfied: transformers in /usr/local/lib/python3.11/dist-packages (4.52.4)\n",
            "Requirement already satisfied: filelock in /usr/local/lib/python3.11/dist-packages (from transformers) (3.18.0)\n",
            "Requirement already satisfied: huggingface-hub<1.0,>=0.30.0 in /usr/local/lib/python3.11/dist-packages (from transformers) (0.32.4)\n",
            "Requirement already satisfied: numpy>=1.17 in /usr/local/lib/python3.11/dist-packages (from transformers) (2.0.2)\n",
            "Requirement already satisfied: packaging>=20.0 in /usr/local/lib/python3.11/dist-packages (from transformers) (24.2)\n",
            "Requirement already satisfied: pyyaml>=5.1 in /usr/local/lib/python3.11/dist-packages (from transformers) (6.0.2)\n",
            "Requirement already satisfied: regex!=2019.12.17 in /usr/local/lib/python3.11/dist-packages (from transformers) (2024.11.6)\n",
            "Requirement already satisfied: requests in /usr/local/lib/python3.11/dist-packages (from transformers) (2.32.3)\n",
            "Requirement already satisfied: tokenizers<0.22,>=0.21 in /usr/local/lib/python3.11/dist-packages (from transformers) (0.21.1)\n",
            "Requirement already satisfied: safetensors>=0.4.3 in /usr/local/lib/python3.11/dist-packages (from transformers) (0.5.3)\n",
            "Requirement already satisfied: tqdm>=4.27 in /usr/local/lib/python3.11/dist-packages (from transformers) (4.67.1)\n",
            "Requirement already satisfied: fsspec>=2023.5.0 in /usr/local/lib/python3.11/dist-packages (from huggingface-hub<1.0,>=0.30.0->transformers) (2025.3.2)\n",
            "Requirement already satisfied: typing-extensions>=3.7.4.3 in /usr/local/lib/python3.11/dist-packages (from huggingface-hub<1.0,>=0.30.0->transformers) (4.14.0)\n",
            "Requirement already satisfied: hf-xet<2.0.0,>=1.1.2 in /usr/local/lib/python3.11/dist-packages (from huggingface-hub<1.0,>=0.30.0->transformers) (1.1.2)\n",
            "Requirement already satisfied: charset-normalizer<4,>=2 in /usr/local/lib/python3.11/dist-packages (from requests->transformers) (3.4.2)\n",
            "Requirement already satisfied: idna<4,>=2.5 in /usr/local/lib/python3.11/dist-packages (from requests->transformers) (3.10)\n",
            "Requirement already satisfied: urllib3<3,>=1.21.1 in /usr/local/lib/python3.11/dist-packages (from requests->transformers) (2.4.0)\n",
            "Requirement already satisfied: certifi>=2017.4.17 in /usr/local/lib/python3.11/dist-packages (from requests->transformers) (2025.4.26)\n"
          ]
        }
      ]
    },
    {
      "cell_type": "markdown",
      "metadata": {
        "id": "HAZpxfbNi58W"
      },
      "source": [
        "# Cargamos modelos pre-entrenados\n",
        "\n"
      ]
    },
    {
      "cell_type": "code",
      "metadata": {
        "colab": {
          "base_uri": "https://localhost:8080/",
          "height": 353,
          "referenced_widgets": [
            "d8f388785d154df7ad71dec271d719f4",
            "83aebf9066ae4c55948205fa5a573a1d",
            "8a886dfa79ed4d889eb5625f1473578f",
            "b12f8becaef548f18ecea7af5eb45d82",
            "c2df7fdbc000456dac98970ce34c4102",
            "fe873e57ce7d441b8f11447643077117",
            "8d703af9dde943b49e0bb75c023422d7",
            "07e6e53515c940d2a39c2cbe46c0f9fa",
            "268dc95aa49846fcb646a47cc2abf1e3",
            "fea93641e7fd4e988241b907f8364710",
            "bbbf3f42bc104632a66844bd7b4b5acb",
            "981f4ff92ec9438faa1b940eade63866",
            "658f9960bcdc4200a3c7dd173cf04d94",
            "bc76fba00a7a41f39c2b82b034c532f9",
            "f09ea4b807d34776ae53be46e199d748",
            "809bfda4b3f74c879de1675f7500663b",
            "9009cfd6141547728b4f4030f0dd0db0",
            "75c3177054c94368b8249ce68ce38839",
            "87194f5e5e6a434ab42b7cd865f21bb1",
            "af65c0f530674f7eba22c4a6f4a934e6",
            "74cf0d86dd3242008cc4c80b83cb0386",
            "61590b57fabe4bfcb459ad1d09bacf90",
            "19b2d33af49f42979ebd5de0cf10826d",
            "a352ca01b06f4b41a42abc10a3989b71",
            "0bb0141109e6422c980152a478e03741",
            "453622ef275c44488b75e2359624a455",
            "fc4092295782484ea287bd0a204750c8",
            "ae37d2777e8d40c8bca8fe257dad0b65",
            "506c2bba085f4c529a7937ebd90f1f7b",
            "9031b4ae68404efa93688b7e171df846",
            "47b1b4cc2ddc4e3ab62d41d4a75c842a",
            "46fabd1458684cbba2e77ce84603630d",
            "3cde149dd2d142639d77163e8989d87a",
            "7ce7ed6ba43440e493ad4e58a5dff02f",
            "f9e0347f2da54b799e7d55f7e2ee7db2",
            "942c138652fc41be9e8a6bb801d41325",
            "b53515f065d74f0f87bd61c3e833e4d4",
            "3fb0a98a9fb542529a3651eafaf9487b",
            "5ca9c26d5bb54f9f88e92c93ed308538",
            "d4915f26e3a9470d8f1fe82faaae50bd",
            "0598c6da225a423dbe85fa6047fab00e",
            "17e5529ce85b4487a8f118442bcdff03",
            "3b8b690a930448f4847ec7111666edee",
            "0861d51244244c72bc3b4caae2e19b66",
            "c45bfcf7638a4424bc8ffc733ebebaa3",
            "e93667659c934c5da6aa06afdfe51b7f",
            "79f956f5f5bd4cc4bf9ebc3e0f17f7e6",
            "5407126264d54d64ab8a464323082090",
            "e10b51ca4dc9447286e5de9fbd905afa",
            "de03953fc31346ecb58ce6ad99640e22",
            "fa38d4d484594e13a049ec9922593350",
            "79e59a16f142462790072e0d5a1e6598",
            "5e8ee03c4ccf43f1bdb01440337c091f",
            "b1fe3f3357a94204a70903989aa92cad",
            "780719f6aab146f7a2b9cf5960c7e459"
          ]
        },
        "id": "hsOWgku5UA7p",
        "outputId": "feba1bbe-1c96-4d5c-ed78-6ae4a7070199"
      },
      "source": [
        "tokenizer = BertTokenizer.from_pretrained('bert-base-uncased')\n",
        "model = BertForMaskedLM.from_pretrained('bert-base-uncased')"
      ],
      "execution_count": 2,
      "outputs": [
        {
          "output_type": "stream",
          "name": "stderr",
          "text": [
            "/usr/local/lib/python3.11/dist-packages/huggingface_hub/utils/_auth.py:94: UserWarning: \n",
            "The secret `HF_TOKEN` does not exist in your Colab secrets.\n",
            "To authenticate with the Hugging Face Hub, create a token in your settings tab (https://huggingface.co/settings/tokens), set it as secret in your Google Colab and restart your session.\n",
            "You will be able to reuse this secret in all of your notebooks.\n",
            "Please note that authentication is recommended but still optional to access public models or datasets.\n",
            "  warnings.warn(\n"
          ]
        },
        {
          "output_type": "display_data",
          "data": {
            "text/plain": [
              "tokenizer_config.json:   0%|          | 0.00/48.0 [00:00<?, ?B/s]"
            ],
            "application/vnd.jupyter.widget-view+json": {
              "version_major": 2,
              "version_minor": 0,
              "model_id": "d8f388785d154df7ad71dec271d719f4"
            }
          },
          "metadata": {}
        },
        {
          "output_type": "display_data",
          "data": {
            "text/plain": [
              "vocab.txt:   0%|          | 0.00/232k [00:00<?, ?B/s]"
            ],
            "application/vnd.jupyter.widget-view+json": {
              "version_major": 2,
              "version_minor": 0,
              "model_id": "981f4ff92ec9438faa1b940eade63866"
            }
          },
          "metadata": {}
        },
        {
          "output_type": "display_data",
          "data": {
            "text/plain": [
              "tokenizer.json:   0%|          | 0.00/466k [00:00<?, ?B/s]"
            ],
            "application/vnd.jupyter.widget-view+json": {
              "version_major": 2,
              "version_minor": 0,
              "model_id": "19b2d33af49f42979ebd5de0cf10826d"
            }
          },
          "metadata": {}
        },
        {
          "output_type": "display_data",
          "data": {
            "text/plain": [
              "config.json:   0%|          | 0.00/570 [00:00<?, ?B/s]"
            ],
            "application/vnd.jupyter.widget-view+json": {
              "version_major": 2,
              "version_minor": 0,
              "model_id": "7ce7ed6ba43440e493ad4e58a5dff02f"
            }
          },
          "metadata": {}
        },
        {
          "output_type": "display_data",
          "data": {
            "text/plain": [
              "model.safetensors:   0%|          | 0.00/440M [00:00<?, ?B/s]"
            ],
            "application/vnd.jupyter.widget-view+json": {
              "version_major": 2,
              "version_minor": 0,
              "model_id": "c45bfcf7638a4424bc8ffc733ebebaa3"
            }
          },
          "metadata": {}
        },
        {
          "output_type": "stream",
          "name": "stderr",
          "text": [
            "Some weights of the model checkpoint at bert-base-uncased were not used when initializing BertForMaskedLM: ['bert.pooler.dense.bias', 'bert.pooler.dense.weight', 'cls.seq_relationship.bias', 'cls.seq_relationship.weight']\n",
            "- This IS expected if you are initializing BertForMaskedLM from the checkpoint of a model trained on another task or with another architecture (e.g. initializing a BertForSequenceClassification model from a BertForPreTraining model).\n",
            "- This IS NOT expected if you are initializing BertForMaskedLM from the checkpoint of a model that you expect to be exactly identical (initializing a BertForSequenceClassification model from a BertForSequenceClassification model).\n"
          ]
        }
      ]
    },
    {
      "cell_type": "markdown",
      "metadata": {
        "id": "CcWd1UtoUkLM"
      },
      "source": [
        "# Tokenización\n",
        "\n",
        "\n",
        "De la tokenización recibimos tres tensores:\n",
        "\n",
        "\n",
        "\n",
        "1.   input_ids\n",
        "2.   token_type_ids\n",
        "3.   attention_mask\n",
        "\n",
        "Aqui el mas importante es *input_ids* el cual nos devuelve la tokenización. Los otros dos tensores sirven para otras aplicaciones. Pueden ver mas info en [Hugging Face](https://huggingface.co/transformers/glossary.html)\n",
        "\n",
        "\n",
        "\n",
        "\n",
        "\n",
        "\n"
      ]
    },
    {
      "cell_type": "code",
      "metadata": {
        "colab": {
          "base_uri": "https://localhost:8080/"
        },
        "id": "IcgvUKVmUFba",
        "outputId": "a4f574da-fd30-455b-d318-0767a72a5330"
      },
      "source": [
        "text = (\"After Abraham Lincoln won the November 1860 presidential \"\n",
        "        \"election on an anti-slavery platform, an initial seven \"\n",
        "        \"slave states declared their secession from the country \"\n",
        "        \"to form the Confederacy. War broke out in April 1861 \"\n",
        "        \"when secessionist forces attacked Fort Sumter in South \"\n",
        "        \"Carolina, just over a month after Lincoln's \"\n",
        "        \"inauguration.\")\n",
        "\n",
        "inputs = tokenizer(text, return_tensors='pt')\n",
        "inputs.keys()\n"
      ],
      "execution_count": 3,
      "outputs": [
        {
          "output_type": "execute_result",
          "data": {
            "text/plain": [
              "dict_keys(['input_ids', 'token_type_ids', 'attention_mask'])"
            ]
          },
          "metadata": {},
          "execution_count": 3
        }
      ]
    },
    {
      "cell_type": "markdown",
      "metadata": {
        "id": "ZnDTy66mU3O2"
      },
      "source": [
        "# Creamos etiquetas\n",
        "\n",
        "Utilizamos el input_ids para crear las mismas etiquetas. Dado que no necesitamos gradiente en las mismas lo eliminamos con detach."
      ]
    },
    {
      "cell_type": "code",
      "metadata": {
        "colab": {
          "base_uri": "https://localhost:8080/"
        },
        "id": "ub-haq8tUoof",
        "outputId": "ef341d19-8831-4c32-c38a-fac0e064770a"
      },
      "source": [
        "inputs['labels'] = inputs.input_ids.detach().clone()\n",
        "inputs"
      ],
      "execution_count": 4,
      "outputs": [
        {
          "output_type": "execute_result",
          "data": {
            "text/plain": [
              "{'input_ids': tensor([[  101,  2044,  8181,  5367,  2180,  1996,  2281,  7313,  4883,  2602,\n",
              "          2006,  2019,  3424,  1011,  8864,  4132,  1010,  2019,  3988,  2698,\n",
              "          6658,  2163,  4161,  2037, 22965,  2013,  1996,  2406,  2000,  2433,\n",
              "          1996, 18179,  1012,  2162,  3631,  2041,  1999,  2258,  6863,  2043,\n",
              "         22965,  2923,  2749,  4457,  3481,  7680,  3334,  1999,  2148,  3792,\n",
              "          1010,  2074,  2058,  1037,  3204,  2044,  5367,  1005,  1055, 17331,\n",
              "          1012,   102]]), 'token_type_ids': tensor([[0, 0, 0, 0, 0, 0, 0, 0, 0, 0, 0, 0, 0, 0, 0, 0, 0, 0, 0, 0, 0, 0, 0, 0,\n",
              "         0, 0, 0, 0, 0, 0, 0, 0, 0, 0, 0, 0, 0, 0, 0, 0, 0, 0, 0, 0, 0, 0, 0, 0,\n",
              "         0, 0, 0, 0, 0, 0, 0, 0, 0, 0, 0, 0, 0, 0]]), 'attention_mask': tensor([[1, 1, 1, 1, 1, 1, 1, 1, 1, 1, 1, 1, 1, 1, 1, 1, 1, 1, 1, 1, 1, 1, 1, 1,\n",
              "         1, 1, 1, 1, 1, 1, 1, 1, 1, 1, 1, 1, 1, 1, 1, 1, 1, 1, 1, 1, 1, 1, 1, 1,\n",
              "         1, 1, 1, 1, 1, 1, 1, 1, 1, 1, 1, 1, 1, 1]]), 'labels': tensor([[  101,  2044,  8181,  5367,  2180,  1996,  2281,  7313,  4883,  2602,\n",
              "          2006,  2019,  3424,  1011,  8864,  4132,  1010,  2019,  3988,  2698,\n",
              "          6658,  2163,  4161,  2037, 22965,  2013,  1996,  2406,  2000,  2433,\n",
              "          1996, 18179,  1012,  2162,  3631,  2041,  1999,  2258,  6863,  2043,\n",
              "         22965,  2923,  2749,  4457,  3481,  7680,  3334,  1999,  2148,  3792,\n",
              "          1010,  2074,  2058,  1037,  3204,  2044,  5367,  1005,  1055, 17331,\n",
              "          1012,   102]])}"
            ]
          },
          "metadata": {},
          "execution_count": 4
        }
      ]
    },
    {
      "cell_type": "markdown",
      "metadata": {
        "id": "CE2ArjrrVPa1"
      },
      "source": [
        "# Enmascaramiento\n",
        "\n",
        "Aca usamos la estrategia de BERT, donde enmascaramos el 15% de los token de entrada de cada sentencia."
      ]
    },
    {
      "cell_type": "code",
      "metadata": {
        "colab": {
          "base_uri": "https://localhost:8080/"
        },
        "id": "3ddT69XtVWIJ",
        "outputId": "6a9a2793-ead7-4498-e11b-7b98df44d288"
      },
      "source": [
        "# Creamos un array aleatorio con el largo del vector\n",
        "rand = torch.rand(inputs.input_ids.shape)\n",
        "# Para aquellos valores menores a 0.15, los seteamos como True.\n",
        "mask_arr = rand < 0.15\n",
        "mask_arr"
      ],
      "execution_count": 5,
      "outputs": [
        {
          "output_type": "execute_result",
          "data": {
            "text/plain": [
              "tensor([[False, False, False, False, False, False, False, False, False, False,\n",
              "         False, False,  True, False,  True, False, False, False, False, False,\n",
              "          True, False, False, False,  True, False, False,  True, False, False,\n",
              "         False, False,  True, False, False, False,  True,  True,  True, False,\n",
              "         False, False, False, False, False, False, False, False, False, False,\n",
              "         False, False,  True, False, False, False, False, False, False, False,\n",
              "         False, False]])"
            ]
          },
          "metadata": {},
          "execution_count": 5
        }
      ]
    },
    {
      "cell_type": "markdown",
      "metadata": {
        "id": "8nt5hT4MV2e_"
      },
      "source": [
        "Ahora usamos *mask_arr* para seleccionar aquellos lugares de la oración que le pondremos el token 103 correspondiente a la MASK.\n",
        "Hay que tener cuidado de no reemplazar por accidente aquellas posiciones que corresponden a otro token importantes como CLS o SEP (101 y 102 respectivamente)\n",
        "\n",
        "Por tanto verificamos que esas posiciones donde dice True no sean 101 o 102."
      ]
    },
    {
      "cell_type": "code",
      "metadata": {
        "colab": {
          "base_uri": "https://localhost:8080/"
        },
        "id": "bJEY1hY7WAQl",
        "outputId": "7c7a55c3-d83c-438a-f71f-f4c19079d9df"
      },
      "source": [
        "(inputs.input_ids != 101) * (inputs.input_ids != 102)\n",
        "mask_arr = (rand < 0.15) * (inputs.input_ids != 101) * (inputs.input_ids != 102)\n",
        "mask_arr"
      ],
      "execution_count": 6,
      "outputs": [
        {
          "output_type": "execute_result",
          "data": {
            "text/plain": [
              "tensor([[False, False, False, False, False, False, False, False, False, False,\n",
              "         False, False,  True, False,  True, False, False, False, False, False,\n",
              "          True, False, False, False,  True, False, False,  True, False, False,\n",
              "         False, False,  True, False, False, False,  True,  True,  True, False,\n",
              "         False, False, False, False, False, False, False, False, False, False,\n",
              "         False, False,  True, False, False, False, False, False, False, False,\n",
              "         False, False]])"
            ]
          },
          "metadata": {},
          "execution_count": 6
        }
      ]
    },
    {
      "cell_type": "code",
      "source": [
        "mask_arr.shape"
      ],
      "metadata": {
        "colab": {
          "base_uri": "https://localhost:8080/"
        },
        "id": "IjqpkCpjlTsa",
        "outputId": "4c4b2b34-e0f9-48bb-9e6d-1c8cac7e88c1"
      },
      "execution_count": 7,
      "outputs": [
        {
          "output_type": "execute_result",
          "data": {
            "text/plain": [
              "torch.Size([1, 62])"
            ]
          },
          "metadata": {},
          "execution_count": 7
        }
      ]
    },
    {
      "cell_type": "markdown",
      "metadata": {
        "id": "XlRzsL_IWX1y"
      },
      "source": [
        "Ahora que tenemos nuestro vector de máscaras, utilizamos esos indices para reemplazar esos tokens por el correspondiente a la máscara, es decir, por el 103."
      ]
    },
    {
      "cell_type": "code",
      "metadata": {
        "colab": {
          "base_uri": "https://localhost:8080/"
        },
        "id": "xbKjBg1JWZ6U",
        "outputId": "9b149b3e-c498-43ca-e7c0-9d7bbe94df3a"
      },
      "source": [
        "# Creamos seleccion a partir de mask_arr\n",
        "selection = torch.flatten((mask_arr[0]).nonzero()).tolist()\n",
        "selection"
      ],
      "execution_count": 8,
      "outputs": [
        {
          "output_type": "execute_result",
          "data": {
            "text/plain": [
              "[12, 14, 20, 24, 27, 32, 36, 37, 38, 52]"
            ]
          },
          "metadata": {},
          "execution_count": 8
        }
      ]
    },
    {
      "cell_type": "code",
      "metadata": {
        "colab": {
          "base_uri": "https://localhost:8080/"
        },
        "id": "6FSupvkNeDip",
        "outputId": "53c9bb5c-31fc-454e-f85d-1dd2739a2a85"
      },
      "source": [
        "# Aplicamos los indices de la seleccion a inputs.input_ids, agregando el token de MASK (103)\n",
        "inputs.input_ids[0, selection] = 103\n",
        "inputs"
      ],
      "execution_count": 9,
      "outputs": [
        {
          "output_type": "execute_result",
          "data": {
            "text/plain": [
              "{'input_ids': tensor([[  101,  2044,  8181,  5367,  2180,  1996,  2281,  7313,  4883,  2602,\n",
              "          2006,  2019,   103,  1011,   103,  4132,  1010,  2019,  3988,  2698,\n",
              "           103,  2163,  4161,  2037,   103,  2013,  1996,   103,  2000,  2433,\n",
              "          1996, 18179,   103,  2162,  3631,  2041,   103,   103,   103,  2043,\n",
              "         22965,  2923,  2749,  4457,  3481,  7680,  3334,  1999,  2148,  3792,\n",
              "          1010,  2074,   103,  1037,  3204,  2044,  5367,  1005,  1055, 17331,\n",
              "          1012,   102]]), 'token_type_ids': tensor([[0, 0, 0, 0, 0, 0, 0, 0, 0, 0, 0, 0, 0, 0, 0, 0, 0, 0, 0, 0, 0, 0, 0, 0,\n",
              "         0, 0, 0, 0, 0, 0, 0, 0, 0, 0, 0, 0, 0, 0, 0, 0, 0, 0, 0, 0, 0, 0, 0, 0,\n",
              "         0, 0, 0, 0, 0, 0, 0, 0, 0, 0, 0, 0, 0, 0]]), 'attention_mask': tensor([[1, 1, 1, 1, 1, 1, 1, 1, 1, 1, 1, 1, 1, 1, 1, 1, 1, 1, 1, 1, 1, 1, 1, 1,\n",
              "         1, 1, 1, 1, 1, 1, 1, 1, 1, 1, 1, 1, 1, 1, 1, 1, 1, 1, 1, 1, 1, 1, 1, 1,\n",
              "         1, 1, 1, 1, 1, 1, 1, 1, 1, 1, 1, 1, 1, 1]]), 'labels': tensor([[  101,  2044,  8181,  5367,  2180,  1996,  2281,  7313,  4883,  2602,\n",
              "          2006,  2019,  3424,  1011,  8864,  4132,  1010,  2019,  3988,  2698,\n",
              "          6658,  2163,  4161,  2037, 22965,  2013,  1996,  2406,  2000,  2433,\n",
              "          1996, 18179,  1012,  2162,  3631,  2041,  1999,  2258,  6863,  2043,\n",
              "         22965,  2923,  2749,  4457,  3481,  7680,  3334,  1999,  2148,  3792,\n",
              "          1010,  2074,  2058,  1037,  3204,  2044,  5367,  1005,  1055, 17331,\n",
              "          1012,   102]])}"
            ]
          },
          "metadata": {},
          "execution_count": 9
        }
      ]
    },
    {
      "cell_type": "markdown",
      "metadata": {
        "id": "urH9g1ZpW1Ee"
      },
      "source": [
        "# Calculamos error del modelo sin fine-tuning"
      ]
    },
    {
      "cell_type": "code",
      "metadata": {
        "colab": {
          "base_uri": "https://localhost:8080/"
        },
        "id": "ngUr2xAuW6V0",
        "outputId": "444e5583-3620-4f68-baad-461c74982e1f"
      },
      "source": [
        "# Pasamos la entrada como parametro del modelo\n",
        "outputs = model(**inputs)\n",
        "\n",
        "# Obtenemos dos tensores de salida, loss and logits\n",
        "print(outputs.keys())\n",
        "\n",
        "outputs.loss"
      ],
      "execution_count": 10,
      "outputs": [
        {
          "output_type": "stream",
          "name": "stdout",
          "text": [
            "odict_keys(['loss', 'logits'])\n"
          ]
        },
        {
          "output_type": "execute_result",
          "data": {
            "text/plain": [
              "tensor(1.0137, grad_fn=<NllLossBackward0>)"
            ]
          },
          "metadata": {},
          "execution_count": 10
        }
      ]
    },
    {
      "cell_type": "code",
      "source": [
        "outputs.logits.shape, inputs.input_ids.shape"
      ],
      "metadata": {
        "colab": {
          "base_uri": "https://localhost:8080/"
        },
        "id": "ASpIqy5HwdY3",
        "outputId": "26d1cbb8-eef8-4514-a246-9dbdf9f95433"
      },
      "execution_count": 11,
      "outputs": [
        {
          "output_type": "execute_result",
          "data": {
            "text/plain": [
              "(torch.Size([1, 62, 30522]), torch.Size([1, 62]))"
            ]
          },
          "metadata": {},
          "execution_count": 11
        }
      ]
    },
    {
      "cell_type": "markdown",
      "metadata": {
        "id": "akpQylZ3m9CW"
      },
      "source": [
        "# Creamos dataset para fine-tuning\n",
        "\n",
        "Ahora repetiremos todos los pasos anteriores para el tokenizado y la creación de las máscaras pero para un texto más largo. Luego realizaremos un ajuste fino del modelo con esas entradas.\n",
        "Para ello utilizaremos el libro de LOTR.\n",
        "\n",
        "También usaremos la función Trainer que trae la librería transformers para entrenar facilmente el modelo."
      ]
    },
    {
      "cell_type": "code",
      "source": [
        "!gdown 1SbnXl4Cn3eKHiWQysi35P9cGST02CHJX"
      ],
      "metadata": {
        "colab": {
          "base_uri": "https://localhost:8080/"
        },
        "id": "CrvvxYBDxq0M",
        "outputId": "f9ed6865-6ae7-4351-8d6b-66a554b58fe8"
      },
      "execution_count": 12,
      "outputs": [
        {
          "output_type": "stream",
          "name": "stdout",
          "text": [
            "Downloading...\n",
            "From: https://drive.google.com/uc?id=1SbnXl4Cn3eKHiWQysi35P9cGST02CHJX\n",
            "To: /content/felowship_of_the_ring.txt\n",
            "\r  0% 0.00/1.00M [00:00<?, ?B/s]\r100% 1.00M/1.00M [00:00<00:00, 57.5MB/s]\n"
          ]
        }
      ]
    },
    {
      "cell_type": "code",
      "metadata": {
        "colab": {
          "base_uri": "https://localhost:8080/"
        },
        "id": "3-E0Y2voAqua",
        "outputId": "de074a93-d085-4e08-d4a8-e1e43f36dd68"
      },
      "source": [
        "with open('felowship_of_the_ring.txt', 'r') as fp:\n",
        "    text_ft = fp.read().split('\\n')\n",
        "len(text_ft)"
      ],
      "execution_count": 13,
      "outputs": [
        {
          "output_type": "execute_result",
          "data": {
            "text/plain": [
              "7744"
            ]
          },
          "metadata": {},
          "execution_count": 13
        }
      ]
    },
    {
      "cell_type": "code",
      "metadata": {
        "colab": {
          "base_uri": "https://localhost:8080/"
        },
        "id": "47_e2cKrnEZB",
        "outputId": "c3e32e2b-2572-4e26-81d9-609f4ecf0e70"
      },
      "source": [
        "inputs_ft = tokenizer(text_ft, return_tensors='pt', max_length=512, truncation=True, padding='max_length')\n",
        "\n",
        "inputs_ft.input_ids.size()"
      ],
      "execution_count": 14,
      "outputs": [
        {
          "output_type": "execute_result",
          "data": {
            "text/plain": [
              "torch.Size([7744, 512])"
            ]
          },
          "metadata": {},
          "execution_count": 14
        }
      ]
    },
    {
      "cell_type": "code",
      "metadata": {
        "colab": {
          "base_uri": "https://localhost:8080/"
        },
        "id": "kMpPWKnRDhap",
        "outputId": "ecef18e1-dc9a-420b-8cef-e44dcef86b69"
      },
      "source": [
        "inputs_ft['labels'] = inputs_ft.input_ids.detach().clone()\n",
        "\n",
        "inputs_ft.keys()"
      ],
      "execution_count": 15,
      "outputs": [
        {
          "output_type": "execute_result",
          "data": {
            "text/plain": [
              "dict_keys(['input_ids', 'token_type_ids', 'attention_mask', 'labels'])"
            ]
          },
          "metadata": {},
          "execution_count": 15
        }
      ]
    },
    {
      "cell_type": "code",
      "metadata": {
        "colab": {
          "base_uri": "https://localhost:8080/"
        },
        "id": "Vv-qSOfiDpWC",
        "outputId": "f27fa329-2831-4a90-aadd-ebf398a0143b"
      },
      "source": [
        "# create random array of floats with equal dimensions to input_ids tensor\n",
        "rand = torch.rand(inputs_ft.input_ids.shape)\n",
        "# create mask array\n",
        "mask_arr = (rand < 0.15) * (inputs_ft.input_ids != 101) * \\\n",
        "           (inputs_ft.input_ids != 102) * (inputs_ft.input_ids != 0)\n",
        "mask_arr"
      ],
      "execution_count": 16,
      "outputs": [
        {
          "output_type": "execute_result",
          "data": {
            "text/plain": [
              "tensor([[False, False, False,  ..., False, False, False],\n",
              "        [False, False, False,  ..., False, False, False],\n",
              "        [False, False, False,  ..., False, False, False],\n",
              "        ...,\n",
              "        [False, False, False,  ..., False, False, False],\n",
              "        [False, False, False,  ..., False, False, False],\n",
              "        [False, False, False,  ..., False, False, False]])"
            ]
          },
          "metadata": {},
          "execution_count": 16
        }
      ]
    },
    {
      "cell_type": "code",
      "metadata": {
        "colab": {
          "base_uri": "https://localhost:8080/"
        },
        "id": "jo5dOJeqD1Ei",
        "outputId": "8a908e1e-74c6-4525-887b-24c76620fe83"
      },
      "source": [
        "for i in range(inputs_ft.input_ids.shape[0]):\n",
        "    selection = torch.flatten((mask_arr[i]).nonzero()).tolist() # esta linea la agregue yo\n",
        "    inputs_ft.input_ids[i, selection] = 103\n",
        "\n",
        "inputs_ft.input_ids"
      ],
      "execution_count": 17,
      "outputs": [
        {
          "output_type": "execute_result",
          "data": {
            "text/plain": [
              "tensor([[  101, 23059,   102,  ...,     0,     0,     0],\n",
              "        [  101,  2023,  6925,  ...,     0,     0,     0],\n",
              "        [  101,   102,     0,  ...,     0,     0,     0],\n",
              "        ...,\n",
              "        [  101,   102,     0,  ...,     0,     0,     0],\n",
              "        [  101,  2182,  4515,  ...,     0,     0,     0],\n",
              "        [  101,   102,     0,  ...,     0,     0,     0]])"
            ]
          },
          "metadata": {},
          "execution_count": 17
        }
      ]
    },
    {
      "cell_type": "code",
      "metadata": {
        "id": "EJoqh-zNDatY"
      },
      "source": [
        "class LOTRDataset(torch.utils.data.Dataset):\n",
        "    def __init__(self, encodings):\n",
        "        self.encodings = encodings\n",
        "    def __getitem__(self, idx):\n",
        "        return {key: torch.tensor(val[idx]) for key, val in self.encodings.items()}\n",
        "    def __len__(self):\n",
        "        return len(self.encodings.input_ids)\n",
        "\n",
        "dataset_ft = LOTRDataset(inputs_ft)"
      ],
      "execution_count": 18,
      "outputs": []
    },
    {
      "cell_type": "markdown",
      "metadata": {
        "id": "iuPD816PlqZ8"
      },
      "source": [
        "# Realizamos fine-tuning para nuestra aplicación\n",
        "Notar que si bien es un ajuste fino del modelo, seguimos entrenando el modelo de lenguaje por enmascaramiento (lo que en general se toma como pre-entrenamiento)"
      ]
    },
    {
      "cell_type": "code",
      "metadata": {
        "id": "cY4uaYk5l_Ap",
        "colab": {
          "base_uri": "https://localhost:8080/",
          "height": 1000
        },
        "outputId": "4607ca8c-3d8a-48ac-f0dc-25bb8cd0755f"
      },
      "source": [
        "args = TrainingArguments(\n",
        "    output_dir='out',\n",
        "    per_device_train_batch_size=5,\n",
        "    num_train_epochs=2,\n",
        "    logging_steps= 100\n",
        ")\n",
        "\n",
        "\n",
        "trainer = Trainer(\n",
        "    model=model,\n",
        "    args=args,\n",
        "    train_dataset=dataset_ft\n",
        ")\n",
        "\n",
        "trainer.train()"
      ],
      "execution_count": 34,
      "outputs": [
        {
          "output_type": "stream",
          "name": "stderr",
          "text": [
            "\u001b[34m\u001b[1mwandb\u001b[0m: \u001b[33mWARNING\u001b[0m The `run_name` is currently set to the same value as `TrainingArguments.output_dir`. If this was not intended, please specify a different run name by setting the `TrainingArguments.run_name` parameter.\n"
          ]
        },
        {
          "output_type": "display_data",
          "data": {
            "text/plain": [
              "<IPython.core.display.Javascript object>"
            ],
            "application/javascript": [
              "\n",
              "        window._wandbApiKey = new Promise((resolve, reject) => {\n",
              "            function loadScript(url) {\n",
              "            return new Promise(function(resolve, reject) {\n",
              "                let newScript = document.createElement(\"script\");\n",
              "                newScript.onerror = reject;\n",
              "                newScript.onload = resolve;\n",
              "                document.body.appendChild(newScript);\n",
              "                newScript.src = url;\n",
              "            });\n",
              "            }\n",
              "            loadScript(\"https://cdn.jsdelivr.net/npm/postmate/build/postmate.min.js\").then(() => {\n",
              "            const iframe = document.createElement('iframe')\n",
              "            iframe.style.cssText = \"width:0;height:0;border:none\"\n",
              "            document.body.appendChild(iframe)\n",
              "            const handshake = new Postmate({\n",
              "                container: iframe,\n",
              "                url: 'https://wandb.ai/authorize'\n",
              "            });\n",
              "            const timeout = setTimeout(() => reject(\"Couldn't auto authenticate\"), 5000)\n",
              "            handshake.then(function(child) {\n",
              "                child.on('authorize', data => {\n",
              "                    clearTimeout(timeout)\n",
              "                    resolve(data)\n",
              "                });\n",
              "            });\n",
              "            })\n",
              "        });\n",
              "    "
            ]
          },
          "metadata": {}
        },
        {
          "output_type": "stream",
          "name": "stderr",
          "text": [
            "\u001b[34m\u001b[1mwandb\u001b[0m: Logging into wandb.ai. (Learn how to deploy a W&B server locally: https://wandb.me/wandb-server)\n",
            "\u001b[34m\u001b[1mwandb\u001b[0m: You can find your API key in your browser here: https://wandb.ai/authorize?ref=models\n",
            "wandb: Paste an API key from your profile and hit enter:"
          ]
        },
        {
          "name": "stdout",
          "output_type": "stream",
          "text": [
            " ··········\n"
          ]
        },
        {
          "output_type": "stream",
          "name": "stderr",
          "text": [
            "\u001b[34m\u001b[1mwandb\u001b[0m: \u001b[33mWARNING\u001b[0m If you're specifying your api key in code, ensure this code is not shared publicly.\n",
            "\u001b[34m\u001b[1mwandb\u001b[0m: \u001b[33mWARNING\u001b[0m Consider setting the WANDB_API_KEY environment variable, or running `wandb login` from the command line.\n",
            "\u001b[34m\u001b[1mwandb\u001b[0m: No netrc file found, creating one.\n",
            "\u001b[34m\u001b[1mwandb\u001b[0m: Appending key for api.wandb.ai to your netrc file: /root/.netrc\n",
            "\u001b[34m\u001b[1mwandb\u001b[0m: Currently logged in as: \u001b[33menzocatorano\u001b[0m (\u001b[33menzocatorano-universidad-nacional-del-litoral\u001b[0m) to \u001b[32mhttps://api.wandb.ai\u001b[0m. Use \u001b[1m`wandb login --relogin`\u001b[0m to force relogin\n"
          ]
        },
        {
          "output_type": "display_data",
          "data": {
            "text/plain": [
              "<IPython.core.display.HTML object>"
            ],
            "text/html": [
              "Tracking run with wandb version 0.19.11"
            ]
          },
          "metadata": {}
        },
        {
          "output_type": "display_data",
          "data": {
            "text/plain": [
              "<IPython.core.display.HTML object>"
            ],
            "text/html": [
              "Run data is saved locally in <code>/content/wandb/run-20250613_053349-a0320teu</code>"
            ]
          },
          "metadata": {}
        },
        {
          "output_type": "display_data",
          "data": {
            "text/plain": [
              "<IPython.core.display.HTML object>"
            ],
            "text/html": [
              "Syncing run <strong><a href='https://wandb.ai/enzocatorano-universidad-nacional-del-litoral/huggingface/runs/a0320teu' target=\"_blank\">out</a></strong> to <a href='https://wandb.ai/enzocatorano-universidad-nacional-del-litoral/huggingface' target=\"_blank\">Weights & Biases</a> (<a href='https://wandb.me/developer-guide' target=\"_blank\">docs</a>)<br>"
            ]
          },
          "metadata": {}
        },
        {
          "output_type": "display_data",
          "data": {
            "text/plain": [
              "<IPython.core.display.HTML object>"
            ],
            "text/html": [
              " View project at <a href='https://wandb.ai/enzocatorano-universidad-nacional-del-litoral/huggingface' target=\"_blank\">https://wandb.ai/enzocatorano-universidad-nacional-del-litoral/huggingface</a>"
            ]
          },
          "metadata": {}
        },
        {
          "output_type": "display_data",
          "data": {
            "text/plain": [
              "<IPython.core.display.HTML object>"
            ],
            "text/html": [
              " View run at <a href='https://wandb.ai/enzocatorano-universidad-nacional-del-litoral/huggingface/runs/a0320teu' target=\"_blank\">https://wandb.ai/enzocatorano-universidad-nacional-del-litoral/huggingface/runs/a0320teu</a>"
            ]
          },
          "metadata": {}
        },
        {
          "output_type": "stream",
          "name": "stderr",
          "text": [
            "<ipython-input-33-1078962487>:5: UserWarning: To copy construct from a tensor, it is recommended to use sourceTensor.clone().detach() or sourceTensor.clone().detach().requires_grad_(True), rather than torch.tensor(sourceTensor).\n",
            "  return {key: torch.tensor(val[idx]) for key, val in self.encodings.items()}\n"
          ]
        },
        {
          "output_type": "display_data",
          "data": {
            "text/plain": [
              "<IPython.core.display.HTML object>"
            ],
            "text/html": [
              "\n",
              "    <div>\n",
              "      \n",
              "      <progress value='3098' max='3098' style='width:300px; height:20px; vertical-align: middle;'></progress>\n",
              "      [3098/3098 33:04, Epoch 2/2]\n",
              "    </div>\n",
              "    <table border=\"1\" class=\"dataframe\">\n",
              "  <thead>\n",
              " <tr style=\"text-align: left;\">\n",
              "      <th>Step</th>\n",
              "      <th>Training Loss</th>\n",
              "    </tr>\n",
              "  </thead>\n",
              "  <tbody>\n",
              "    <tr>\n",
              "      <td>100</td>\n",
              "      <td>1.531800</td>\n",
              "    </tr>\n",
              "    <tr>\n",
              "      <td>200</td>\n",
              "      <td>0.023600</td>\n",
              "    </tr>\n",
              "    <tr>\n",
              "      <td>300</td>\n",
              "      <td>0.024400</td>\n",
              "    </tr>\n",
              "    <tr>\n",
              "      <td>400</td>\n",
              "      <td>0.026200</td>\n",
              "    </tr>\n",
              "    <tr>\n",
              "      <td>500</td>\n",
              "      <td>0.022000</td>\n",
              "    </tr>\n",
              "    <tr>\n",
              "      <td>600</td>\n",
              "      <td>0.022400</td>\n",
              "    </tr>\n",
              "    <tr>\n",
              "      <td>700</td>\n",
              "      <td>0.025300</td>\n",
              "    </tr>\n",
              "    <tr>\n",
              "      <td>800</td>\n",
              "      <td>0.022400</td>\n",
              "    </tr>\n",
              "    <tr>\n",
              "      <td>900</td>\n",
              "      <td>0.022600</td>\n",
              "    </tr>\n",
              "    <tr>\n",
              "      <td>1000</td>\n",
              "      <td>0.020900</td>\n",
              "    </tr>\n",
              "    <tr>\n",
              "      <td>1100</td>\n",
              "      <td>0.018900</td>\n",
              "    </tr>\n",
              "    <tr>\n",
              "      <td>1200</td>\n",
              "      <td>0.023200</td>\n",
              "    </tr>\n",
              "    <tr>\n",
              "      <td>1300</td>\n",
              "      <td>0.023100</td>\n",
              "    </tr>\n",
              "    <tr>\n",
              "      <td>1400</td>\n",
              "      <td>0.025300</td>\n",
              "    </tr>\n",
              "    <tr>\n",
              "      <td>1500</td>\n",
              "      <td>0.021100</td>\n",
              "    </tr>\n",
              "    <tr>\n",
              "      <td>1600</td>\n",
              "      <td>0.014800</td>\n",
              "    </tr>\n",
              "    <tr>\n",
              "      <td>1700</td>\n",
              "      <td>0.011100</td>\n",
              "    </tr>\n",
              "    <tr>\n",
              "      <td>1800</td>\n",
              "      <td>0.011700</td>\n",
              "    </tr>\n",
              "    <tr>\n",
              "      <td>1900</td>\n",
              "      <td>0.011800</td>\n",
              "    </tr>\n",
              "    <tr>\n",
              "      <td>2000</td>\n",
              "      <td>0.010300</td>\n",
              "    </tr>\n",
              "    <tr>\n",
              "      <td>2100</td>\n",
              "      <td>0.010500</td>\n",
              "    </tr>\n",
              "    <tr>\n",
              "      <td>2200</td>\n",
              "      <td>0.011300</td>\n",
              "    </tr>\n",
              "    <tr>\n",
              "      <td>2300</td>\n",
              "      <td>0.010100</td>\n",
              "    </tr>\n",
              "    <tr>\n",
              "      <td>2400</td>\n",
              "      <td>0.009900</td>\n",
              "    </tr>\n",
              "    <tr>\n",
              "      <td>2500</td>\n",
              "      <td>0.010600</td>\n",
              "    </tr>\n",
              "    <tr>\n",
              "      <td>2600</td>\n",
              "      <td>0.011200</td>\n",
              "    </tr>\n",
              "    <tr>\n",
              "      <td>2700</td>\n",
              "      <td>0.010200</td>\n",
              "    </tr>\n",
              "    <tr>\n",
              "      <td>2800</td>\n",
              "      <td>0.011500</td>\n",
              "    </tr>\n",
              "    <tr>\n",
              "      <td>2900</td>\n",
              "      <td>0.010800</td>\n",
              "    </tr>\n",
              "    <tr>\n",
              "      <td>3000</td>\n",
              "      <td>0.009800</td>\n",
              "    </tr>\n",
              "  </tbody>\n",
              "</table><p>"
            ]
          },
          "metadata": {}
        },
        {
          "output_type": "stream",
          "name": "stderr",
          "text": [
            "<ipython-input-33-1078962487>:5: UserWarning: To copy construct from a tensor, it is recommended to use sourceTensor.clone().detach() or sourceTensor.clone().detach().requires_grad_(True), rather than torch.tensor(sourceTensor).\n",
            "  return {key: torch.tensor(val[idx]) for key, val in self.encodings.items()}\n",
            "<ipython-input-33-1078962487>:5: UserWarning: To copy construct from a tensor, it is recommended to use sourceTensor.clone().detach() or sourceTensor.clone().detach().requires_grad_(True), rather than torch.tensor(sourceTensor).\n",
            "  return {key: torch.tensor(val[idx]) for key, val in self.encodings.items()}\n",
            "<ipython-input-33-1078962487>:5: UserWarning: To copy construct from a tensor, it is recommended to use sourceTensor.clone().detach() or sourceTensor.clone().detach().requires_grad_(True), rather than torch.tensor(sourceTensor).\n",
            "  return {key: torch.tensor(val[idx]) for key, val in self.encodings.items()}\n",
            "<ipython-input-33-1078962487>:5: UserWarning: To copy construct from a tensor, it is recommended to use sourceTensor.clone().detach() or sourceTensor.clone().detach().requires_grad_(True), rather than torch.tensor(sourceTensor).\n",
            "  return {key: torch.tensor(val[idx]) for key, val in self.encodings.items()}\n",
            "<ipython-input-33-1078962487>:5: UserWarning: To copy construct from a tensor, it is recommended to use sourceTensor.clone().detach() or sourceTensor.clone().detach().requires_grad_(True), rather than torch.tensor(sourceTensor).\n",
            "  return {key: torch.tensor(val[idx]) for key, val in self.encodings.items()}\n",
            "<ipython-input-33-1078962487>:5: UserWarning: To copy construct from a tensor, it is recommended to use sourceTensor.clone().detach() or sourceTensor.clone().detach().requires_grad_(True), rather than torch.tensor(sourceTensor).\n",
            "  return {key: torch.tensor(val[idx]) for key, val in self.encodings.items()}\n"
          ]
        },
        {
          "output_type": "execute_result",
          "data": {
            "text/plain": [
              "TrainOutput(global_step=3098, training_loss=0.06547679614066462, metrics={'train_runtime': 1998.5776, 'train_samples_per_second': 7.75, 'train_steps_per_second': 1.55, 'total_flos': 4076516140646400.0, 'train_loss': 0.06547679614066462, 'epoch': 2.0})"
            ]
          },
          "metadata": {},
          "execution_count": 34
        }
      ]
    },
    {
      "cell_type": "code",
      "source": [
        "# tengo que reinciar la sesion asi que voy a guardar el modelo fine-tuneado\n",
        "from google.colab import drive\n",
        "drive.mount('/content/drive')"
      ],
      "metadata": {
        "colab": {
          "base_uri": "https://localhost:8080/"
        },
        "id": "XIjhoM0n77M8",
        "outputId": "677b7743-b738-4b7a-9603-e4e1a3b1ec82"
      },
      "execution_count": 2,
      "outputs": [
        {
          "output_type": "stream",
          "name": "stdout",
          "text": [
            "Mounted at /content/drive\n"
          ]
        }
      ]
    },
    {
      "cell_type": "code",
      "source": [
        "# guardo\n",
        "save_dir = '/content/drive/MyDrive/deep_learning'\n",
        "model.save_pretrained(save_dir)\n",
        "tokenizer.save_pretrained(save_dir)"
      ],
      "metadata": {
        "colab": {
          "base_uri": "https://localhost:8080/"
        },
        "id": "MrUivFVE88xe",
        "outputId": "edc9ec29-d0b6-44f4-b57f-8ab4e1fa3e78"
      },
      "execution_count": 38,
      "outputs": [
        {
          "output_type": "execute_result",
          "data": {
            "text/plain": [
              "('/content/drive/MyDrive/deep_learning/tokenizer_config.json',\n",
              " '/content/drive/MyDrive/deep_learning/special_tokens_map.json',\n",
              " '/content/drive/MyDrive/deep_learning/vocab.txt',\n",
              " '/content/drive/MyDrive/deep_learning/added_tokens.json')"
            ]
          },
          "metadata": {},
          "execution_count": 38
        }
      ]
    },
    {
      "cell_type": "code",
      "source": [
        "# pruebo cargar antes de reiniciar, para checkear que todo ande bien\n",
        "import os\n",
        "\n",
        "save_dir = '/content/drive/MyDrive/deep_learning'\n",
        "print(\"Archivos en\", save_dir)\n",
        "for fn in os.listdir(save_dir):\n",
        "    print(\" -\", fn)"
      ],
      "metadata": {
        "colab": {
          "base_uri": "https://localhost:8080/"
        },
        "id": "t3CnM052-hFU",
        "outputId": "4f6ace96-5f90-4ca5-a4d6-3c85585487ff"
      },
      "execution_count": 41,
      "outputs": [
        {
          "output_type": "stream",
          "name": "stdout",
          "text": [
            "Archivos en /content/drive/MyDrive/deep_learning\n",
            " - 8_1_Transformers.ipynb\n",
            " - config.json\n",
            " - model.safetensors\n",
            " - tokenizer_config.json\n",
            " - special_tokens_map.json\n",
            " - vocab.txt\n"
          ]
        }
      ]
    },
    {
      "cell_type": "code",
      "source": [
        "from transformers import BertTokenizer, BertForMaskedLM\n",
        "import torch\n",
        "\n",
        "tokenizer_test = BertTokenizer.from_pretrained(save_dir)\n",
        "model_test     = BertForMaskedLM.from_pretrained(save_dir)\n",
        "\n",
        "text = \"The quick brown fox jumps over the lazy dog.\"\n",
        "inputs = tokenizer_test(text, return_tensors='pt')\n",
        "\n",
        "with torch.no_grad():\n",
        "    outputs = model_test(**inputs)\n",
        "\n",
        "#    batch_size x seq_len x vocab_size\n",
        "print(\"Logits shape:\", outputs.logits.shape)"
      ],
      "metadata": {
        "colab": {
          "base_uri": "https://localhost:8080/"
        },
        "id": "dHgqmlCI91CX",
        "outputId": "f13d38a9-d36f-499b-d2ca-71784c1c6a95"
      },
      "execution_count": 39,
      "outputs": [
        {
          "output_type": "stream",
          "name": "stdout",
          "text": [
            "Logits shape: torch.Size([1, 12, 30522])\n"
          ]
        }
      ]
    },
    {
      "cell_type": "code",
      "source": [
        "# check extra que propone chatgpt\n",
        "\n",
        "import hashlib\n",
        "import numpy as np\n",
        "\n",
        "# 1) Extraé los pesos de embeddings\n",
        "emb_weights = model.get_input_embeddings().weight.detach().cpu().numpy()\n",
        "\n",
        "# 2) Calculá el checksum MD5\n",
        "md5 = hashlib.md5(emb_weights.tobytes()).hexdigest()\n",
        "print(\"Checksum embeddings (antes de reiniciar):\", md5)\n",
        "\n",
        "# Guárdalo en algún lado (por ejemplo, variable, nota, etc.)\n",
        "saved_checksum = md5"
      ],
      "metadata": {
        "colab": {
          "base_uri": "https://localhost:8080/"
        },
        "id": "f_Saf0Rz_Qr0",
        "outputId": "e2df4f85-e0a4-41a3-9a8d-24395c453215"
      },
      "execution_count": 42,
      "outputs": [
        {
          "output_type": "stream",
          "name": "stdout",
          "text": [
            "Checksum embeddings (antes de reiniciar): 76b66cc2789fc11e22fc4b1eb66b169e\n"
          ]
        }
      ]
    },
    {
      "cell_type": "code",
      "source": [
        "# ahora recargo el modelo\n",
        "from transformers import BertTokenizer, BertForMaskedLM\n",
        "model = BertForMaskedLM.from_pretrained('/content/drive/MyDrive/deep_learning')\n",
        "tokenizer = BertTokenizer.from_pretrained('/content/drive/MyDrive/deep_learning')"
      ],
      "metadata": {
        "id": "gbrA-_iUAWXD"
      },
      "execution_count": 3,
      "outputs": []
    },
    {
      "cell_type": "code",
      "source": [
        "# check\n",
        "import hashlib\n",
        "import numpy as np\n",
        "\n",
        "# Nuevamente extraés los mismos pesos\n",
        "emb_weights2 = model.get_input_embeddings().weight.detach().cpu().numpy()\n",
        "\n",
        "# Volvés a calcular el MD5\n",
        "md5_after = hashlib.md5(emb_weights2.tobytes()).hexdigest()\n",
        "print(\"Checksum embeddings (después de reiniciar):\", md5_after)\n",
        "\n",
        "# Comprobás\n",
        "if md5_after == \"76b66cc2789fc11e22fc4b1eb66b169e\":\n",
        "    print(\"✅ ¡Coinciden! Tu modelo se guardó y recargó SIN ERRORES.\")\n",
        "else:\n",
        "    print(\"❌ Algo falló: las huellas NO coinciden.\")"
      ],
      "metadata": {
        "colab": {
          "base_uri": "https://localhost:8080/"
        },
        "id": "oYXT5vNABbAq",
        "outputId": "68a8282f-bf30-40df-9398-a99d3b75d6b9"
      },
      "execution_count": 5,
      "outputs": [
        {
          "output_type": "stream",
          "name": "stdout",
          "text": [
            "Checksum embeddings (después de reiniciar): 76b66cc2789fc11e22fc4b1eb66b169e\n",
            "✅ ¡Coinciden! Tu modelo se guardó y recargó SIN ERRORES.\n"
          ]
        }
      ]
    },
    {
      "cell_type": "markdown",
      "source": [
        "***\n",
        "***\n",
        "## Ejercicio: finetuning para clasificación\n",
        "Completar el workflow siguiente para entrenar y evaluar un clasificador de recomendaciones.\n",
        "\n",
        "- Considerar diferentes estrategias de ajuste del learning rate y modelos preentrenados\n",
        "- Como entrenar solo el clasificador final y no toda la red?"
      ],
      "metadata": {
        "id": "PmgMXZEAAIhD"
      }
    },
    {
      "cell_type": "code",
      "source": [
        "pip install -U datasets"
      ],
      "metadata": {
        "id": "Va3Gbr9FA-7j",
        "colab": {
          "base_uri": "https://localhost:8080/"
        },
        "collapsed": true,
        "outputId": "3d5beb04-7a42-498f-c061-3a7eef84eba3"
      },
      "execution_count": 1,
      "outputs": [
        {
          "output_type": "stream",
          "name": "stdout",
          "text": [
            "Requirement already satisfied: datasets in /usr/local/lib/python3.11/dist-packages (3.6.0)\n",
            "Requirement already satisfied: filelock in /usr/local/lib/python3.11/dist-packages (from datasets) (3.18.0)\n",
            "Requirement already satisfied: numpy>=1.17 in /usr/local/lib/python3.11/dist-packages (from datasets) (2.0.2)\n",
            "Requirement already satisfied: pyarrow>=15.0.0 in /usr/local/lib/python3.11/dist-packages (from datasets) (18.1.0)\n",
            "Requirement already satisfied: dill<0.3.9,>=0.3.0 in /usr/local/lib/python3.11/dist-packages (from datasets) (0.3.7)\n",
            "Requirement already satisfied: pandas in /usr/local/lib/python3.11/dist-packages (from datasets) (2.2.2)\n",
            "Requirement already satisfied: requests>=2.32.2 in /usr/local/lib/python3.11/dist-packages (from datasets) (2.32.3)\n",
            "Requirement already satisfied: tqdm>=4.66.3 in /usr/local/lib/python3.11/dist-packages (from datasets) (4.67.1)\n",
            "Requirement already satisfied: xxhash in /usr/local/lib/python3.11/dist-packages (from datasets) (3.5.0)\n",
            "Requirement already satisfied: multiprocess<0.70.17 in /usr/local/lib/python3.11/dist-packages (from datasets) (0.70.15)\n",
            "Requirement already satisfied: fsspec<=2025.3.0,>=2023.1.0 in /usr/local/lib/python3.11/dist-packages (from fsspec[http]<=2025.3.0,>=2023.1.0->datasets) (2025.3.0)\n",
            "Requirement already satisfied: huggingface-hub>=0.24.0 in /usr/local/lib/python3.11/dist-packages (from datasets) (0.32.4)\n",
            "Requirement already satisfied: packaging in /usr/local/lib/python3.11/dist-packages (from datasets) (24.2)\n",
            "Requirement already satisfied: pyyaml>=5.1 in /usr/local/lib/python3.11/dist-packages (from datasets) (6.0.2)\n",
            "Requirement already satisfied: aiohttp!=4.0.0a0,!=4.0.0a1 in /usr/local/lib/python3.11/dist-packages (from fsspec[http]<=2025.3.0,>=2023.1.0->datasets) (3.11.15)\n",
            "Requirement already satisfied: typing-extensions>=3.7.4.3 in /usr/local/lib/python3.11/dist-packages (from huggingface-hub>=0.24.0->datasets) (4.14.0)\n",
            "Requirement already satisfied: hf-xet<2.0.0,>=1.1.2 in /usr/local/lib/python3.11/dist-packages (from huggingface-hub>=0.24.0->datasets) (1.1.2)\n",
            "Requirement already satisfied: charset-normalizer<4,>=2 in /usr/local/lib/python3.11/dist-packages (from requests>=2.32.2->datasets) (3.4.2)\n",
            "Requirement already satisfied: idna<4,>=2.5 in /usr/local/lib/python3.11/dist-packages (from requests>=2.32.2->datasets) (3.10)\n",
            "Requirement already satisfied: urllib3<3,>=1.21.1 in /usr/local/lib/python3.11/dist-packages (from requests>=2.32.2->datasets) (2.4.0)\n",
            "Requirement already satisfied: certifi>=2017.4.17 in /usr/local/lib/python3.11/dist-packages (from requests>=2.32.2->datasets) (2025.4.26)\n",
            "Requirement already satisfied: python-dateutil>=2.8.2 in /usr/local/lib/python3.11/dist-packages (from pandas->datasets) (2.9.0.post0)\n",
            "Requirement already satisfied: pytz>=2020.1 in /usr/local/lib/python3.11/dist-packages (from pandas->datasets) (2025.2)\n",
            "Requirement already satisfied: tzdata>=2022.7 in /usr/local/lib/python3.11/dist-packages (from pandas->datasets) (2025.2)\n",
            "Requirement already satisfied: aiohappyeyeballs>=2.3.0 in /usr/local/lib/python3.11/dist-packages (from aiohttp!=4.0.0a0,!=4.0.0a1->fsspec[http]<=2025.3.0,>=2023.1.0->datasets) (2.6.1)\n",
            "Requirement already satisfied: aiosignal>=1.1.2 in /usr/local/lib/python3.11/dist-packages (from aiohttp!=4.0.0a0,!=4.0.0a1->fsspec[http]<=2025.3.0,>=2023.1.0->datasets) (1.3.2)\n",
            "Requirement already satisfied: attrs>=17.3.0 in /usr/local/lib/python3.11/dist-packages (from aiohttp!=4.0.0a0,!=4.0.0a1->fsspec[http]<=2025.3.0,>=2023.1.0->datasets) (25.3.0)\n",
            "Requirement already satisfied: frozenlist>=1.1.1 in /usr/local/lib/python3.11/dist-packages (from aiohttp!=4.0.0a0,!=4.0.0a1->fsspec[http]<=2025.3.0,>=2023.1.0->datasets) (1.6.0)\n",
            "Requirement already satisfied: multidict<7.0,>=4.5 in /usr/local/lib/python3.11/dist-packages (from aiohttp!=4.0.0a0,!=4.0.0a1->fsspec[http]<=2025.3.0,>=2023.1.0->datasets) (6.4.4)\n",
            "Requirement already satisfied: propcache>=0.2.0 in /usr/local/lib/python3.11/dist-packages (from aiohttp!=4.0.0a0,!=4.0.0a1->fsspec[http]<=2025.3.0,>=2023.1.0->datasets) (0.3.1)\n",
            "Requirement already satisfied: yarl<2.0,>=1.17.0 in /usr/local/lib/python3.11/dist-packages (from aiohttp!=4.0.0a0,!=4.0.0a1->fsspec[http]<=2025.3.0,>=2023.1.0->datasets) (1.20.0)\n",
            "Requirement already satisfied: six>=1.5 in /usr/local/lib/python3.11/dist-packages (from python-dateutil>=2.8.2->pandas->datasets) (1.17.0)\n"
          ]
        }
      ]
    },
    {
      "cell_type": "code",
      "metadata": {
        "id": "NqtJp5LLzDzW",
        "colab": {
          "base_uri": "https://localhost:8080/"
        },
        "outputId": "015fb295-8ddb-44d8-c997-569bb4b5c6cd"
      },
      "source": [
        "from datasets import load_dataset\n",
        "\n",
        "train_data = load_dataset(\"Yelp/yelp_review_full\", split=\"train[:2000]\")\n",
        "train_data[100]"
      ],
      "execution_count": 54,
      "outputs": [
        {
          "output_type": "execute_result",
          "data": {
            "text/plain": [
              "{'label': 0,\n",
              " 'text': 'My expectations for McDonalds are t rarely high. But for one to still fail so spectacularly...that takes something special!\\\\nThe cashier took my friends\\'s order, then promptly ignored me. I had to force myself in front of a cashier who opened his register to wait on the person BEHIND me. I waited over five minutes for a gigantic order that included precisely one kid\\'s meal. After watching two people who ordered after me be handed their food, I asked where mine was. The manager started yelling at the cashiers for \\\\\"serving off their orders\\\\\" when they didn\\'t have their food. But neither cashier was anywhere near those controls, and the manager was the one serving food to customers and clearing the boards.\\\\nThe manager was rude when giving me my order. She didn\\'t make sure that I had everything ON MY RECEIPT, and never even had the decency to apologize that I felt I was getting poor service.\\\\nI\\'ve eaten at various McDonalds restaurants for over 30 years. I\\'ve worked at more than one location. I expect bad days, bad moods, and the occasional mistake. But I have yet to have a decent experience at this store. It will remain a place I avoid unless someone in my party needs to avoid illness from low blood sugar. Perhaps I should go back to the racially biased service of Steak n Shake instead!'}"
            ]
          },
          "metadata": {},
          "execution_count": 54
        }
      ]
    },
    {
      "cell_type": "code",
      "source": [
        "from transformers import AutoTokenizer\n",
        "\n",
        "tokenizer = AutoTokenizer.from_pretrained(\"bert-base-cased\")\n",
        "\n",
        "def tokenize_function(examples):\n",
        "    return tokenizer(examples[\"text\"], padding=\"max_length\", truncation=True)\n",
        "\n",
        "tokenized_train_dataset = train_data.map(tokenize_function, batched=True)"
      ],
      "metadata": {
        "id": "x__X9TrMA3Ki",
        "colab": {
          "base_uri": "https://localhost:8080/",
          "height": 49,
          "referenced_widgets": [
            "9d221ca0e3bd4feab4f727a6141dcc6d",
            "2e79f93766764f388b33d0e0b60444b6",
            "7a6c3ba1c8a345ca9bb83df8a08c47bd",
            "339a7abb83b646eda1dc4e4e6886063e",
            "364ea5ced48a4d3ea268bf0a30d405a8",
            "e7d5b277f6584175833749c3c20fbf41",
            "154a87c611c14660a18077278b14c9fd",
            "6789e80be9a0472fbe0cf35885db6d89",
            "391404360f06481fa1064e3245edca5f",
            "ee33e387094c44688e5fc8aebc259dbd",
            "9f57b7b5b8b04a13980e7ac40985e562"
          ]
        },
        "outputId": "d4207d1b-c1f1-45f5-ed02-06d7afacce06"
      },
      "execution_count": 55,
      "outputs": [
        {
          "output_type": "display_data",
          "data": {
            "text/plain": [
              "Map:   0%|          | 0/2000 [00:00<?, ? examples/s]"
            ],
            "application/vnd.jupyter.widget-view+json": {
              "version_major": 2,
              "version_minor": 0,
              "model_id": "9d221ca0e3bd4feab4f727a6141dcc6d"
            }
          },
          "metadata": {}
        }
      ]
    },
    {
      "cell_type": "code",
      "source": [
        "tokenized_train_dataset = tokenized_train_dataset.remove_columns([\"text\"])\n",
        "tokenized_train_dataset = tokenized_train_dataset.rename_column(\"label\", \"labels\")\n",
        "tokenized_train_dataset.set_format(\"torch\")"
      ],
      "metadata": {
        "id": "hy4d2QJzE4WI"
      },
      "execution_count": 56,
      "outputs": []
    },
    {
      "cell_type": "code",
      "source": [
        "from torch.utils.data import DataLoader\n",
        "\n",
        "train_dataloader = DataLoader(tokenized_train_dataset, shuffle=True, batch_size=1)\n",
        "for batch in train_dataloader:\n",
        "    break\n",
        "batch.keys()"
      ],
      "metadata": {
        "colab": {
          "base_uri": "https://localhost:8080/"
        },
        "id": "xnsmaMDLD1Z0",
        "outputId": "421864da-1fb6-4be5-a578-bec3914add51"
      },
      "execution_count": 57,
      "outputs": [
        {
          "output_type": "execute_result",
          "data": {
            "text/plain": [
              "dict_keys(['labels', 'input_ids', 'token_type_ids', 'attention_mask'])"
            ]
          },
          "metadata": {},
          "execution_count": 57
        }
      ]
    },
    {
      "cell_type": "code",
      "source": [
        "batch[\"labels\"].shape, batch[\"input_ids\"].shape"
      ],
      "metadata": {
        "colab": {
          "base_uri": "https://localhost:8080/"
        },
        "id": "g_oO3kBjE_1h",
        "outputId": "0444ace3-ac95-4794-fc7b-aa596dc358a5"
      },
      "execution_count": 58,
      "outputs": [
        {
          "output_type": "execute_result",
          "data": {
            "text/plain": [
              "(torch.Size([1]), torch.Size([1, 512]))"
            ]
          },
          "metadata": {},
          "execution_count": 58
        }
      ]
    },
    {
      "cell_type": "code",
      "source": [
        "# Definición del modelo\n",
        "from transformers import AutoModelForSequenceClassification\n",
        "\n",
        "model = AutoModelForSequenceClassification.from_pretrained(\"bert-base-cased\", num_labels=5)"
      ],
      "metadata": {
        "colab": {
          "base_uri": "https://localhost:8080/"
        },
        "id": "gyS7AgY1D9TU",
        "outputId": "7a7653fc-f689-4a39-d1c1-f314fd08055b"
      },
      "execution_count": 98,
      "outputs": [
        {
          "output_type": "stream",
          "name": "stderr",
          "text": [
            "Some weights of BertForSequenceClassification were not initialized from the model checkpoint at bert-base-cased and are newly initialized: ['classifier.bias', 'classifier.weight']\n",
            "You should probably TRAIN this model on a down-stream task to be able to use it for predictions and inference.\n"
          ]
        }
      ]
    },
    {
      "cell_type": "code",
      "source": [
        "model"
      ],
      "metadata": {
        "colab": {
          "base_uri": "https://localhost:8080/"
        },
        "id": "F5l2YD3IFszR",
        "outputId": "73fc048d-036f-4b94-b7c4-32284ce39985"
      },
      "execution_count": 99,
      "outputs": [
        {
          "output_type": "execute_result",
          "data": {
            "text/plain": [
              "BertForSequenceClassification(\n",
              "  (bert): BertModel(\n",
              "    (embeddings): BertEmbeddings(\n",
              "      (word_embeddings): Embedding(28996, 768, padding_idx=0)\n",
              "      (position_embeddings): Embedding(512, 768)\n",
              "      (token_type_embeddings): Embedding(2, 768)\n",
              "      (LayerNorm): LayerNorm((768,), eps=1e-12, elementwise_affine=True)\n",
              "      (dropout): Dropout(p=0.1, inplace=False)\n",
              "    )\n",
              "    (encoder): BertEncoder(\n",
              "      (layer): ModuleList(\n",
              "        (0-11): 12 x BertLayer(\n",
              "          (attention): BertAttention(\n",
              "            (self): BertSdpaSelfAttention(\n",
              "              (query): Linear(in_features=768, out_features=768, bias=True)\n",
              "              (key): Linear(in_features=768, out_features=768, bias=True)\n",
              "              (value): Linear(in_features=768, out_features=768, bias=True)\n",
              "              (dropout): Dropout(p=0.1, inplace=False)\n",
              "            )\n",
              "            (output): BertSelfOutput(\n",
              "              (dense): Linear(in_features=768, out_features=768, bias=True)\n",
              "              (LayerNorm): LayerNorm((768,), eps=1e-12, elementwise_affine=True)\n",
              "              (dropout): Dropout(p=0.1, inplace=False)\n",
              "            )\n",
              "          )\n",
              "          (intermediate): BertIntermediate(\n",
              "            (dense): Linear(in_features=768, out_features=3072, bias=True)\n",
              "            (intermediate_act_fn): GELUActivation()\n",
              "          )\n",
              "          (output): BertOutput(\n",
              "            (dense): Linear(in_features=3072, out_features=768, bias=True)\n",
              "            (LayerNorm): LayerNorm((768,), eps=1e-12, elementwise_affine=True)\n",
              "            (dropout): Dropout(p=0.1, inplace=False)\n",
              "          )\n",
              "        )\n",
              "      )\n",
              "    )\n",
              "    (pooler): BertPooler(\n",
              "      (dense): Linear(in_features=768, out_features=768, bias=True)\n",
              "      (activation): Tanh()\n",
              "    )\n",
              "  )\n",
              "  (dropout): Dropout(p=0.1, inplace=False)\n",
              "  (classifier): Linear(in_features=768, out_features=5, bias=True)\n",
              ")"
            ]
          },
          "metadata": {},
          "execution_count": 99
        }
      ]
    },
    {
      "cell_type": "code",
      "source": [
        "total_params = sum(p.numel() for p in model.parameters())\n",
        "trainable_params = sum(p.numel() for p in model.parameters() if p.requires_grad)\n",
        "print(f\"Total params:      {total_params}\")\n",
        "print(f\"Trainable params:  {trainable_params}\")"
      ],
      "metadata": {
        "colab": {
          "base_uri": "https://localhost:8080/"
        },
        "id": "9Hu6kLLOF7Fi",
        "outputId": "313e6ddb-7c49-49ce-f8f4-9612c4ca1150"
      },
      "execution_count": 61,
      "outputs": [
        {
          "output_type": "stream",
          "name": "stdout",
          "text": [
            "Total params:      108314117\n",
            "Trainable params:  108314117\n"
          ]
        }
      ]
    },
    {
      "cell_type": "code",
      "source": [
        "# ambos numeros son iguales, por lo que hace falta congelar los parametros que no quieren ajustarse\n",
        "for param in model.bert.parameters():\n",
        "    param.requires_grad = False\n",
        "\n",
        "total_params = sum(p.numel() for p in model.parameters())\n",
        "trainable_params = sum(p.numel() for p in model.parameters() if p.requires_grad)\n",
        "classifier_params = sum(p.numel() for p in model.classifier.parameters())\n",
        "\n",
        "print(f\"Total params:      {total_params}\")\n",
        "print(f\"Trainable params:  {trainable_params}\")\n",
        "print(f\"Expected (classifier only): {classifier_params}\")"
      ],
      "metadata": {
        "colab": {
          "base_uri": "https://localhost:8080/"
        },
        "id": "8CcHXaK2HXDG",
        "outputId": "8c3962ac-c4a1-472c-bafb-10d5db2c17e4"
      },
      "execution_count": 62,
      "outputs": [
        {
          "output_type": "stream",
          "name": "stdout",
          "text": [
            "Total params:      108314117\n",
            "Trainable params:  3845\n",
            "Expected (classifier only): 3845\n"
          ]
        }
      ]
    },
    {
      "cell_type": "code",
      "source": [
        "# descongelo parcialmente a la bestia\n",
        "for param in model.bert.parameters():\n",
        "    param.requires_grad = False\n",
        "\n",
        "for idx in [11]: # solo reactivo la ultima capa\n",
        "    for param in model.bert.encoder.layer[idx].parameters():\n",
        "        param.requires_grad = True\n",
        "\n",
        "for param in model.bert.pooler.parameters():\n",
        "    param.requires_grad = True\n",
        "\n",
        "for param in model.classifier.parameters():\n",
        "    param.requires_grad = True\n",
        "\n",
        "total_params = sum(p.numel() for p in model.parameters())\n",
        "trainable_params = sum(p.numel() for p in model.parameters() if p.requires_grad)\n",
        "classifier_params = sum(p.numel() for p in model.classifier.parameters())\n",
        "\n",
        "print(f\"Total params:      {total_params}\")\n",
        "print(f\"Trainable params:  {trainable_params}\")\n",
        "print(f\"Expected (classifier only): {classifier_params}\")"
      ],
      "metadata": {
        "colab": {
          "base_uri": "https://localhost:8080/"
        },
        "id": "fgrtA5Nqo7VZ",
        "outputId": "c10d4cf3-af1c-4412-e908-eb1d0d957983"
      },
      "execution_count": 101,
      "outputs": [
        {
          "output_type": "stream",
          "name": "stdout",
          "text": [
            "Total params:      108314117\n",
            "Trainable params:  7682309\n",
            "Expected (classifier only): 3845\n"
          ]
        }
      ]
    },
    {
      "cell_type": "code",
      "source": [
        "# ahora si\n",
        "from torch.optim import AdamW\n",
        "\n",
        "optimizer = AdamW(model.parameters(), lr=1e-6) # baje aun mas el lr"
      ],
      "metadata": {
        "id": "MXTJpm3tEbo6"
      },
      "execution_count": 102,
      "outputs": []
    },
    {
      "cell_type": "code",
      "source": [
        "from transformers import get_scheduler\n",
        "\n",
        "num_epochs = 2 # baje las epocas para el reentrenamiento de la ultima capa de BERT\n",
        "num_training_steps = num_epochs * len(train_dataloader)\n",
        "lr_scheduler = get_scheduler(\n",
        "    name=\"linear\",\n",
        "    optimizer=optimizer,\n",
        "    num_warmup_steps=int(0.1*num_training_steps),\n",
        "    num_training_steps=num_training_steps\n",
        ")"
      ],
      "metadata": {
        "id": "zVFBjsq0Ef_g"
      },
      "execution_count": 103,
      "outputs": []
    },
    {
      "cell_type": "code",
      "source": [
        "import torch\n",
        "from accelerate.test_utils.testing import get_backend\n",
        "\n",
        "device, _, _ = get_backend()\n",
        "model.to(device)\n",
        "print(device)"
      ],
      "metadata": {
        "colab": {
          "base_uri": "https://localhost:8080/"
        },
        "id": "VuZLtMu8EndF",
        "outputId": "116b2e47-8ca5-475c-808c-fffe2c25ebe2"
      },
      "execution_count": 104,
      "outputs": [
        {
          "output_type": "stream",
          "name": "stdout",
          "text": [
            "cuda\n"
          ]
        }
      ]
    },
    {
      "cell_type": "code",
      "source": [
        "from tqdm.auto import tqdm\n",
        "\n",
        "progress_bar = tqdm(range(num_training_steps))\n",
        "\n",
        "model.train()\n",
        "for epoch in range(num_epochs):\n",
        "    for batch in train_dataloader:\n",
        "        batch = {k: v.to(device) for k, v in batch.items()}\n",
        "        outputs = model(**batch)\n",
        "        loss = outputs.loss\n",
        "        loss.backward()\n",
        "\n",
        "        optimizer.step()\n",
        "        lr_scheduler.step()\n",
        "        optimizer.zero_grad()\n",
        "        progress_bar.update(1)\n"
      ],
      "metadata": {
        "id": "kKm-CyPSEuW4",
        "colab": {
          "base_uri": "https://localhost:8080/",
          "height": 49,
          "referenced_widgets": [
            "14c7996ef74e44f2bef30286427b3f83",
            "bf5702507ca743d3ac3c90e5a8661dca",
            "6badce8517174a6fbd1ec225643e7070",
            "79356ed08c334ca986f65281fe4ee425",
            "7790fc3d59d84fc39fd33df2a73cfc6b",
            "3aedafb8b2994de6bd0c193bcab2a3b4",
            "396ebe7c6720474ba9edbd405e493a3f",
            "8fee2225381743b1b2d6b5629323806c",
            "77cf04333b5745b5859b4b6099961be8",
            "21f8f5c968604b30a33f6ed21c5e34cc",
            "3cfe2fda850c4a41858abdd26c78c082"
          ]
        },
        "outputId": "5e945b74-b18c-4a65-e709-02b5dad56134"
      },
      "execution_count": 105,
      "outputs": [
        {
          "output_type": "display_data",
          "data": {
            "text/plain": [
              "  0%|          | 0/4000 [00:00<?, ?it/s]"
            ],
            "application/vnd.jupyter.widget-view+json": {
              "version_major": 2,
              "version_minor": 0,
              "model_id": "14c7996ef74e44f2bef30286427b3f83"
            }
          },
          "metadata": {}
        }
      ]
    },
    {
      "cell_type": "code",
      "source": [
        "# evaluacion\n",
        "from datasets import load_dataset\n",
        "test_data = load_dataset(\"Yelp/yelp_review_full\", split=\"test[:1000]\")\n",
        "\n",
        "tokenized_test = (\n",
        "    test_data\n",
        "    .map(tokenize_function, batched=True)\n",
        "    .remove_columns([\"text\"])\n",
        "    .rename_column(\"label\", \"labels\")\n",
        "    .with_format(\"torch\")\n",
        ")\n",
        "\n",
        "from torch.utils.data import DataLoader\n",
        "test_dataloader = DataLoader(tokenized_test, batch_size=16)"
      ],
      "metadata": {
        "id": "R8tyP8TrFFXt"
      },
      "execution_count": 106,
      "outputs": []
    },
    {
      "cell_type": "code",
      "source": [
        "import torch\n",
        "from sklearn.metrics import accuracy_score, classification_report, confusion_matrix\n",
        "import matplotlib.pyplot as plt\n",
        "\n",
        "true_labels = []\n",
        "pred_labels = []\n",
        "\n",
        "model.eval()\n",
        "with torch.no_grad():\n",
        "    for batch in test_dataloader:\n",
        "        batch = {k: v.to(device) for k, v in batch.items()}\n",
        "        outputs = model(**batch)\n",
        "        preds = outputs.logits.argmax(dim=-1)\n",
        "        true_labels.extend(batch[\"labels\"].cpu().numpy())\n",
        "        pred_labels.extend(preds.cpu().numpy())\n",
        "\n",
        "true = np.array(true_labels)\n",
        "pred = np.array(pred_labels)\n",
        "\n",
        "# 2. Calculamos la matriz de confusión\n",
        "cm = confusion_matrix(true, pred, labels=[0,1,2,3,4])\n",
        "\n",
        "fig, ax = plt.subplots(figsize=(6,6))\n",
        "im = ax.imshow(cm, interpolation='nearest')\n",
        "ax.figure.colorbar(im, ax=ax)\n",
        "\n",
        "# Etiquetas de ejes\n",
        "classes = ['0','1','2','3','4']\n",
        "ax.set(xticks=np.arange(len(classes)), yticks=np.arange(len(classes)),\n",
        "       xticklabels=classes, yticklabels=classes,\n",
        "       xlabel='Predicción', ylabel='Verdadero',\n",
        "       title='Matriz de confusión — Yelp Reviews')\n",
        "\n",
        "# Rotar etiquetas X\n",
        "plt.setp(ax.get_xticklabels(), rotation=45, ha=\"right\", rotation_mode=\"anchor\")\n",
        "\n",
        "# Anotar cada celda\n",
        "thresh = cm.max() / 2.\n",
        "for i in range(cm.shape[0]):\n",
        "    for j in range(cm.shape[1]):\n",
        "        ax.text(j, i, format(cm[i, j], 'd'),\n",
        "                ha=\"center\", va=\"center\",\n",
        "                color=\"white\" if cm[i, j] > thresh else \"black\")\n",
        "\n",
        "plt.tight_layout()\n",
        "plt.show()\n",
        "\n",
        "from sklearn.metrics import classification_report\n",
        "print(classification_report(true, pred))\n"
      ],
      "metadata": {
        "colab": {
          "base_uri": "https://localhost:8080/",
          "height": 939
        },
        "id": "Q4I3TRR-IZk2",
        "outputId": "36097e9f-4574-40f7-c6c0-c391b47ac9e7"
      },
      "execution_count": 107,
      "outputs": [
        {
          "output_type": "display_data",
          "data": {
            "text/plain": [
              "<Figure size 600x600 with 2 Axes>"
            ],
            "image/png": "[encoded data removed]"
          },
          "metadata": {}
        },
        {
          "output_type": "stream",
          "name": "stdout",
          "text": [
            "              precision    recall  f1-score   support\n",
            "\n",
            "           0       0.00      0.00      0.00       189\n",
            "           1       0.20      0.98      0.34       204\n",
            "           2       0.00      0.00      0.00       245\n",
            "           3       0.00      0.00      0.00       215\n",
            "           4       0.16      0.02      0.04       147\n",
            "\n",
            "    accuracy                           0.20      1000\n",
            "   macro avg       0.07      0.20      0.07      1000\n",
            "weighted avg       0.06      0.20      0.07      1000\n",
            "\n"
          ]
        },
        {
          "output_type": "stream",
          "name": "stderr",
          "text": [
            "/usr/local/lib/python3.11/dist-packages/sklearn/metrics/_classification.py:1565: UndefinedMetricWarning: Precision is ill-defined and being set to 0.0 in labels with no predicted samples. Use `zero_division` parameter to control this behavior.\n",
            "  _warn_prf(average, modifier, f\"{metric.capitalize()} is\", len(result))\n",
            "/usr/local/lib/python3.11/dist-packages/sklearn/metrics/_classification.py:1565: UndefinedMetricWarning: Precision is ill-defined and being set to 0.0 in labels with no predicted samples. Use `zero_division` parameter to control this behavior.\n",
            "  _warn_prf(average, modifier, f\"{metric.capitalize()} is\", len(result))\n",
            "/usr/local/lib/python3.11/dist-packages/sklearn/metrics/_classification.py:1565: UndefinedMetricWarning: Precision is ill-defined and being set to 0.0 in labels with no predicted samples. Use `zero_division` parameter to control this behavior.\n",
            "  _warn_prf(average, modifier, f\"{metric.capitalize()} is\", len(result))\n"
          ]
        }
      ]
    },
    {
      "cell_type": "markdown",
      "source": [
        "La matriz de confusion arrojaba esto:\n",
        "\n",
        "![image.png](data:image/png;base64,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)\n",
        "\n",
        "Asi que probe primero aumentar el numero de datos"
      ],
      "metadata": {
        "id": "_9hR5FJ3K0jv"
      }
    },
    {
      "cell_type": "markdown",
      "source": [
        "Despues de duplicar los datos de entrenamiento, obtengo esta matriz:\n",
        "\n",
        "![image.png](data:image/png;base64,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)\n",
        "\n",
        "Voy a probar bajar el learning rate"
      ],
      "metadata": {
        "id": "jvO2jj6TMG5t"
      }
    },
    {
      "cell_type": "markdown",
      "source": [
        "Usando lr = 1e-5\n",
        "\n",
        "![image.png](data:image/png;base64,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)\n",
        "\n",
        "Lo bajo otra vez"
      ],
      "metadata": {
        "id": "1EN7PvVJNrTU"
      }
    },
    {
      "cell_type": "markdown",
      "source": [
        "Con lr = 2e-6\n",
        "\n",
        "![image.png](data:image/png;base64,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)\n",
        "\n",
        "Mejoro muchisimo (quiza hubo suerte y justo dio con un minimo que daba informacion relevante).\n",
        "Le agrego un warmup de un decimo de los pasos."
      ],
      "metadata": {
        "id": "9IBRYUh0Ulho"
      }
    },
    {
      "cell_type": "markdown",
      "source": [
        "Llego a esto:\n",
        "\n",
        "![image.png](data:image/png;base64,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)\n",
        "\n",
        "Voy a aumentar epocas de entrenamiento."
      ],
      "metadata": {
        "id": "hRlrpunObpOw"
      }
    },
    {
      "cell_type": "markdown",
      "source": [
        "Sigue mejorando:\n",
        "\n",
        "![image.png](data:image/png;base64,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)\n",
        "\n",
        "Ahora tambien puse la matriz con las metricas de clasificacion:\n",
        "\n",
        "              precision    recall  f1-score   support\n",
        "\n",
        "           0       0.71      0.71      0.71       189\n",
        "           1       0.46      0.55      0.50       204\n",
        "           2       0.52      0.48      0.50       245\n",
        "           3       0.53      0.36      0.43       215\n",
        "           4       0.52      0.69      0.59       147\n",
        "\n",
        "    accuracy                           0.54      1000\n",
        "    macro avg      0.55      0.56      0.55      1000\n",
        "    weighted avg   0.54      0.54      0.54      1000\n",
        "\n",
        "Como ultima prueba, voy a probar entrenar descongelando ligeramente a BERT, solo la ultima capa.\n",
        "\n",
        "Bajo las epocas de entrenamiento a 2, porque son muchos parametros a ajustar, y tambien el lr = 1e-6."
      ],
      "metadata": {
        "id": "CTX5p7wLmtwn"
      }
    },
    {
      "cell_type": "code",
      "source": [],
      "metadata": {
        "id": "nO0efaonK9BV"
      },
      "execution_count": 53,
      "outputs": []
    }
  ]
}